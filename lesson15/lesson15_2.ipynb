{
 "cells": [
  {
   "cell_type": "code",
   "execution_count": 1,
   "id": "74b74ae7",
   "metadata": {},
   "outputs": [
    {
     "data": {
      "text/plain": [
       "array([ 0, 10, 20, 30, 40, 50, 60, 70, 80, 90])"
      ]
     },
     "execution_count": 1,
     "metadata": {},
     "output_type": "execute_result"
    }
   ],
   "source": [
    "import numpy as np\n",
    "arr = np.arange(10) * 10\n",
    "arr"
   ]
  },
  {
   "cell_type": "code",
   "execution_count": 7,
   "id": "1a0bd857",
   "metadata": {},
   "outputs": [
    {
     "data": {
      "text/plain": [
       "array([70, 80, 90])"
      ]
     },
     "execution_count": 7,
     "metadata": {},
     "output_type": "execute_result"
    }
   ],
   "source": [
    "#索引\n",
    "arr[1]\n",
    "\n",
    "#slice\n",
    "arr[:6] #前6個\n",
    "arr[-3:] #最後3個"
   ]
  },
  {
   "cell_type": "code",
   "execution_count": 13,
   "id": "29a48189",
   "metadata": {},
   "outputs": [
    {
     "data": {
      "text/plain": [
       "array([[ 57,  52,  58,  87,  71],\n",
       "       [ 94,  99,  63,  71,  79],\n",
       "       [ 63,  64,  98,  83,  72],\n",
       "       [ 84,  97,  65,  66,  50],\n",
       "       [ 75,  64,  56,  80,  78],\n",
       "       [ 52,  63,  57,  91,  83],\n",
       "       [ 95,  78,  87,  65,  74],\n",
       "       [ 87,  82,  67,  95,  78],\n",
       "       [ 99,  72,  95,  53,  87],\n",
       "       [ 51,  74,  51,  89,  77],\n",
       "       [ 86,  79,  83,  77,  74],\n",
       "       [ 82,  99,  53,  60, 100],\n",
       "       [ 76,  51,  89,  66,  89],\n",
       "       [ 93,  50,  88,  83,  83],\n",
       "       [ 64,  78,  96,  83,  95],\n",
       "       [ 91,  61,  86,  87,  50],\n",
       "       [ 71,  58,  53,  96,  51],\n",
       "       [ 83,  83,  76,  63,  99],\n",
       "       [ 97,  69,  89,  84,  94],\n",
       "       [ 98,  64,  50,  83,  81],\n",
       "       [ 88,  85,  71,  95,  67],\n",
       "       [ 65,  68,  92,  58,  96],\n",
       "       [ 92,  85,  52,  73,  69],\n",
       "       [ 60,  62,  74,  99,  89],\n",
       "       [ 72,  66,  74,  74,  72],\n",
       "       [ 64,  93,  75,  83,  58],\n",
       "       [ 83,  87,  81,  93,  58],\n",
       "       [ 93,  95,  59,  53,  98],\n",
       "       [ 79,  54,  98,  80,  57],\n",
       "       [ 98,  70,  88,  74,  99],\n",
       "       [ 96,  63,  69,  77,  51],\n",
       "       [ 84,  71,  52,  98,  83],\n",
       "       [ 51,  95,  84,  59,  94],\n",
       "       [ 83,  94,  52, 100,  78],\n",
       "       [ 85,  66,  85,  89,  93],\n",
       "       [ 68,  94,  80,  54,  93],\n",
       "       [ 92,  63,  86,  71,  77],\n",
       "       [ 66,  73,  64,  85,  74],\n",
       "       [ 73,  97,  61,  80,  94],\n",
       "       [ 72,  76,  63,  72,  82],\n",
       "       [ 93,  94,  54,  52,  72],\n",
       "       [ 60,  81,  50,  61,  93],\n",
       "       [ 93,  65,  98,  70,  68],\n",
       "       [ 54,  77,  72, 100,  72],\n",
       "       [ 70,  69,  91,  91,  82],\n",
       "       [ 72,  52,  82,  98,  57],\n",
       "       [ 97,  97,  99,  82,  92],\n",
       "       [ 52,  65,  97,  60,  56],\n",
       "       [ 85,  51,  80,  72,  61],\n",
       "       [ 78,  93,  78,  60,  80]], dtype=int32)"
      ]
     },
     "execution_count": 13,
     "metadata": {},
     "output_type": "execute_result"
    }
   ],
   "source": [
    "scores = np.random.randint(50,101, size=(50, 5))\n",
    "scores"
   ]
  },
  {
   "cell_type": "code",
   "execution_count": 14,
   "id": "9ce27508",
   "metadata": {},
   "outputs": [
    {
     "data": {
      "text/plain": [
       "array([[57, 52, 58, 87, 71]], dtype=int32)"
      ]
     },
     "execution_count": 14,
     "metadata": {},
     "output_type": "execute_result"
    }
   ],
   "source": [
    "#第一位學生的分數\n",
    "scores[0] #(5,)\n",
    "scores[0,:] #(5,)\n",
    "scores[0:1,:] #(1, 5)"
   ]
  },
  {
   "cell_type": "code",
   "execution_count": 15,
   "id": "70b9fc9b",
   "metadata": {},
   "outputs": [
    {
     "data": {
      "text/plain": [
       "array([[57, 52, 58],\n",
       "       [94, 99, 63],\n",
       "       [63, 64, 98],\n",
       "       [84, 97, 65],\n",
       "       [75, 64, 56]], dtype=int32)"
      ]
     },
     "execution_count": 15,
     "metadata": {},
     "output_type": "execute_result"
    }
   ],
   "source": [
    "#前5位學生\n",
    "scores[:5]\n",
    "#前5位學生,前3個分數\n",
    "scores[:5,:3]"
   ]
  },
  {
   "cell_type": "code",
   "execution_count": 16,
   "id": "e81e24a8",
   "metadata": {},
   "outputs": [
    {
     "data": {
      "text/plain": [
       "array([58, 63, 98, 65, 56, 57, 87, 67, 95, 51, 83, 53, 89, 88, 96, 86, 53,\n",
       "       76, 89, 50, 71, 92, 52, 74, 74, 75, 81, 59, 98, 88, 69, 52, 84, 52,\n",
       "       85, 80, 86, 64, 61, 63, 54, 50, 98, 72, 91, 82, 99, 97, 80, 78],\n",
       "      dtype=int32)"
      ]
     },
     "execution_count": 16,
     "metadata": {},
     "output_type": "execute_result"
    }
   ],
   "source": [
    "#第1科分數\n",
    "scores[:,0]\n",
    "scores[:,1]\n",
    "scores[:,2]"
   ]
  },
  {
   "cell_type": "code",
   "execution_count": 17,
   "id": "c4fc497b",
   "metadata": {},
   "outputs": [
    {
     "data": {
      "text/plain": [
       "array([325, 406, 380, 362, 353, 346, 399, 409, 406, 342, 399, 394, 371,\n",
       "       397, 416, 375, 329, 404, 433, 376, 406, 379, 371, 384, 358, 373,\n",
       "       402, 398, 368, 429, 356, 388, 383, 407, 418, 389, 389, 362, 405,\n",
       "       365, 365, 345, 394, 375, 403, 361, 467, 330, 349, 389], dtype=int32)"
      ]
     },
     "execution_count": 17,
     "metadata": {},
     "output_type": "execute_result"
    }
   ],
   "source": [
    "#ndarray可以陣列運算\n",
    "total = scores[:,0] + scores[:,1] + scores[:,2] + scores[:,3] + scores[:,4]\n",
    "total"
   ]
  },
  {
   "cell_type": "code",
   "execution_count": 18,
   "id": "167f4180",
   "metadata": {},
   "outputs": [
    {
     "data": {
      "text/plain": [
       "array([65. , 81.2, 76. , 72.4, 70.6, 69.2, 79.8, 81.8, 81.2, 68.4, 79.8,\n",
       "       78.8, 74.2, 79.4, 83.2, 75. , 65.8, 80.8, 86.6, 75.2, 81.2, 75.8,\n",
       "       74.2, 76.8, 71.6, 74.6, 80.4, 79.6, 73.6, 85.8, 71.2, 77.6, 76.6,\n",
       "       81.4, 83.6, 77.8, 77.8, 72.4, 81. , 73. , 73. , 69. , 78.8, 75. ,\n",
       "       80.6, 72.2, 93.4, 66. , 69.8, 77.8])"
      ]
     },
     "execution_count": 18,
     "metadata": {},
     "output_type": "execute_result"
    }
   ],
   "source": [
    "total / 5"
   ]
  },
  {
   "cell_type": "code",
   "execution_count": 19,
   "id": "b3a85359",
   "metadata": {},
   "outputs": [
    {
     "data": {
      "text/plain": [
       "array([65. , 81.2, 76. , 72.4, 70.6, 69.2, 79.8, 81.8, 81.2, 68.4, 79.8,\n",
       "       78.8, 74.2, 79.4, 83.2, 75. , 65.8, 80.8, 86.6, 75.2, 81.2, 75.8,\n",
       "       74.2, 76.8, 71.6, 74.6, 80.4, 79.6, 73.6, 85.8, 71.2, 77.6, 76.6,\n",
       "       81.4, 83.6, 77.8, 77.8, 72.4, 81. , 73. , 73. , 69. , 78.8, 75. ,\n",
       "       80.6, 72.2, 93.4, 66. , 69.8, 77.8])"
      ]
     },
     "execution_count": 19,
     "metadata": {},
     "output_type": "execute_result"
    }
   ],
   "source": [
    "#np內的function\n",
    "np.sum(scores,axis=1)\n",
    "np.mean(scores,axis=1)"
   ]
  },
  {
   "cell_type": "code",
   "execution_count": 20,
   "id": "69108bdd",
   "metadata": {},
   "outputs": [
    {
     "data": {
      "text/plain": [
       "array([65. , 81.2, 76. , 72.4, 70.6, 69.2, 79.8, 81.8, 81.2, 68.4, 79.8,\n",
       "       78.8, 74.2, 79.4, 83.2, 75. , 65.8, 80.8, 86.6, 75.2, 81.2, 75.8,\n",
       "       74.2, 76.8, 71.6, 74.6, 80.4, 79.6, 73.6, 85.8, 71.2, 77.6, 76.6,\n",
       "       81.4, 83.6, 77.8, 77.8, 72.4, 81. , 73. , 73. , 69. , 78.8, 75. ,\n",
       "       80.6, 72.2, 93.4, 66. , 69.8, 77.8])"
      ]
     },
     "execution_count": 20,
     "metadata": {},
     "output_type": "execute_result"
    }
   ],
   "source": [
    "#實體方法\n",
    "scores.sum(axis=1)\n",
    "scores.mean(axis=1)"
   ]
  }
 ],
 "metadata": {
  "kernelspec": {
   "display_name": "a0804",
   "language": "python",
   "name": "python3"
  },
  "language_info": {
   "codemirror_mode": {
    "name": "ipython",
    "version": 3
   },
   "file_extension": ".py",
   "mimetype": "text/x-python",
   "name": "python",
   "nbconvert_exporter": "python",
   "pygments_lexer": "ipython3",
   "version": "3.12.11"
  }
 },
 "nbformat": 4,
 "nbformat_minor": 5
}
