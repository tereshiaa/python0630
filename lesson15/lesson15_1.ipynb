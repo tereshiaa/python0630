{
 "cells": [
  {
   "cell_type": "code",
   "execution_count": 1,
   "id": "d957ddbe",
   "metadata": {},
   "outputs": [
    {
     "data": {
      "text/plain": [
       "array([10, 30, 50, 70, 90])"
      ]
     },
     "execution_count": 1,
     "metadata": {},
     "output_type": "execute_result"
    }
   ],
   "source": [
    "import numpy as np\n",
    "#陣列運算\n",
    "a = np.array([1, 3, 5, 7, 9])\n",
    "a *= 10\n",
    "a"
   ]
  },
  {
   "cell_type": "code",
   "execution_count": 2,
   "id": "526716a1",
   "metadata": {},
   "outputs": [
    {
     "data": {
      "text/plain": [
       "array([ 3,  7, 11, 15, 19])"
      ]
     },
     "execution_count": 2,
     "metadata": {},
     "output_type": "execute_result"
    }
   ],
   "source": [
    "a = np.array([1, 3, 5, 7, 9])\n",
    "b = np.array([2, 4 , 6, 8, 10])\n",
    "\n",
    "#陣列運算\n",
    "a + b"
   ]
  },
  {
   "cell_type": "code",
   "execution_count": 4,
   "id": "ace88ecf",
   "metadata": {},
   "outputs": [
    {
     "data": {
      "text/plain": [
       "dtype('int64')"
      ]
     },
     "execution_count": 4,
     "metadata": {},
     "output_type": "execute_result"
    }
   ],
   "source": [
    "#2維ndarray\n",
    "\n",
    "arr = np.array([[1, 3, 5],[2, 4, 6]])\n",
    "arr.ndim    # 陣列的維度數 (這裡會是 2)\n",
    "arr.shape   # 陣列的形狀(大小)，回傳 (2, 3)，代表2列3欄\n",
    "arr.size    # 陣列中元素的總數，這裡是 6\n",
    "arr.dtype   # 陣列中元素的資料型別，這裡預設會是 int64（或 int32，依環境而定）\n"
   ]
  },
  {
   "cell_type": "code",
   "execution_count": 5,
   "id": "66301e74",
   "metadata": {},
   "outputs": [
    {
     "data": {
      "text/plain": [
       "array([[0.24681984, 0.49782912, 0.37743284, 0.14442534],\n",
       "       [0.23387653, 0.73869036, 0.02279771, 0.87985668],\n",
       "       [0.81540632, 0.94940477, 0.41358499, 0.72069859],\n",
       "       [0.83530871, 0.16555431, 0.76675094, 0.26911689],\n",
       "       [0.4602335 , 0.07070922, 0.1981969 , 0.81942538],\n",
       "       [0.81607747, 0.6127727 , 0.50099359, 0.92493329],\n",
       "       [0.36709755, 0.90540748, 0.47682253, 0.49414514],\n",
       "       [0.86975463, 0.03590024, 0.91791187, 0.48823042],\n",
       "       [0.19723214, 0.14627969, 0.24195934, 0.24459246],\n",
       "       [0.25540205, 0.29270733, 0.94646568, 0.38479362]])"
      ]
     },
     "execution_count": 5,
     "metadata": {},
     "output_type": "execute_result"
    }
   ],
   "source": [
    "np.random.rand()\n",
    "np.random.rand(10, 4)"
   ]
  },
  {
   "cell_type": "code",
   "execution_count": 16,
   "id": "694e7ba4",
   "metadata": {},
   "outputs": [
    {
     "data": {
      "text/plain": [
       "array([[55, 80, 55, 62, 85],\n",
       "       [96, 51, 56, 82, 67],\n",
       "       [62, 91, 86, 64, 71],\n",
       "       [64, 92, 60, 78, 50],\n",
       "       [76, 89, 67, 73, 98],\n",
       "       [81, 66, 72, 56, 82],\n",
       "       [69, 77, 58, 50, 80],\n",
       "       [77, 51, 63, 92, 95],\n",
       "       [70, 92, 53, 71, 72],\n",
       "       [59, 90, 71, 73, 92]], dtype=int32)"
      ]
     },
     "execution_count": 16,
     "metadata": {},
     "output_type": "execute_result"
    }
   ],
   "source": [
    "scores = np.random.randint(50, 101,size=(10,5))\n",
    "scores"
   ]
  },
  {
   "cell_type": "code",
   "execution_count": null,
   "id": "69da6936",
   "metadata": {},
   "outputs": [],
   "source": []
  }
 ],
 "metadata": {
  "kernelspec": {
   "display_name": "a0804",
   "language": "python",
   "name": "python3"
  },
  "language_info": {
   "codemirror_mode": {
    "name": "ipython",
    "version": 3
   },
   "file_extension": ".py",
   "mimetype": "text/x-python",
   "name": "python",
   "nbconvert_exporter": "python",
   "pygments_lexer": "ipython3",
   "version": "3.12.11"
  }
 },
 "nbformat": 4,
 "nbformat_minor": 5
}
