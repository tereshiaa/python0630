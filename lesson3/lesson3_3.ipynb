{
 "cells": [
  {
   "cell_type": "code",
   "execution_count": 12,
   "id": "1e3b7eb9",
   "metadata": {},
   "outputs": [
    {
     "name": "stdout",
     "output_type": "stream",
     "text": [
      "top= 5.0 bottom= 5.0 height= 4.0 梯形的面積是 20.0 平方公分\n"
     ]
    }
   ],
   "source": [
    "# 請輸入梯形的上底(公分):5      多行一起宣告  全部選取 Ctrl+/\n",
    "# 請輸入梯形的下底(公分):10\n",
    "# 請輸入梯形的高(公分):2\n",
    "\n",
    "top = float(input(\"請輸入梯形的上底(公分):\"))  #input()函式會讀取鍵盤輸入的字串\n",
    "bottom = float(input(\"請輸入梯形的下底(公分):\"))\n",
    "height = float(input(\"請輸入梯形的高(公分):\"))\n",
    "area =(top + bottom) * height / 2\n",
    "print(\"top=\",top,\"bottom=\",bottom,\"height=\",height,\"梯形的面積是\", round(area,ndigits=1), \"平方公分\")  #round(area,ndigits=1) #四捨五入到小數點後1位"
   ]
  }
 ],
 "metadata": {
  "kernelspec": {
   "display_name": "base",
   "language": "python",
   "name": "python3"
  },
  "language_info": {
   "codemirror_mode": {
    "name": "ipython",
    "version": 3
   },
   "file_extension": ".py",
   "mimetype": "text/x-python",
   "name": "python",
   "nbconvert_exporter": "python",
   "pygments_lexer": "ipython3",
   "version": "3.13.2"
  }
 },
 "nbformat": 4,
 "nbformat_minor": 5
}
