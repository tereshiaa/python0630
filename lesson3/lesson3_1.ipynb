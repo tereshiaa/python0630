{
 "cells": [
  {
   "cell_type": "code",
   "execution_count": 3,
   "id": "0a2cae5b",
   "metadata": {},
   "outputs": [
    {
     "data": {
      "text/plain": [
       "10.0"
      ]
     },
     "execution_count": 3,
     "metadata": {},
     "output_type": "execute_result"
    }
   ],
   "source": [
    "5 + 5.0 \n"
   ]
  },
  {
   "cell_type": "code",
   "execution_count": 4,
   "id": "fb27a289",
   "metadata": {},
   "outputs": [
    {
     "data": {
      "text/plain": [
       "10"
      ]
     },
     "execution_count": 4,
     "metadata": {},
     "output_type": "execute_result"
    }
   ],
   "source": [
    "#運算式(expression)\n",
    "2 * (1 + 2) ** 2 - 2 ** 2 * 2"
   ]
  },
  {
   "cell_type": "markdown",
   "id": "b3a56ec2",
   "metadata": {},
   "source": [
    "數學運算植有先後順序\n",
    "\n",
    "()  **\n",
    "* / //\n",
    "+-\n"
   ]
  },
  {
   "cell_type": "code",
   "execution_count": 7,
   "id": "f32493e1",
   "metadata": {},
   "outputs": [
    {
     "name": "stdout",
     "output_type": "stream",
     "text": [
      "14\n",
      "20\n",
      "10\n"
     ]
    }
   ],
   "source": [
    "value1 = 2 + 3 *4 #敘述式\n",
    "value2 = (2 + 3) * 4 #敘述式\n",
    "value3 = 2 * (1 + 2) ** 2 - 2 ** 2 * 2 #敘述式\n",
    "print(value1) #敘述式\n",
    "print(value2) #敘述式\n",
    "print(value3) #敘述式\n"
   ]
  }
 ],
 "metadata": {
  "kernelspec": {
   "display_name": "base",
   "language": "python",
   "name": "python3"
  },
  "language_info": {
   "codemirror_mode": {
    "name": "ipython",
    "version": 3
   },
   "file_extension": ".py",
   "mimetype": "text/x-python",
   "name": "python",
   "nbconvert_exporter": "python",
   "pygments_lexer": "ipython3",
   "version": "3.13.2"
  }
 },
 "nbformat": 4,
 "nbformat_minor": 5
}
