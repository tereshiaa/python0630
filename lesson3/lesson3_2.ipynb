{
 "cells": [
  {
   "cell_type": "code",
   "execution_count": 2,
   "id": "d31deba6",
   "metadata": {},
   "outputs": [
    {
     "data": {
      "text/plain": [
       "'3535'"
      ]
     },
     "execution_count": 2,
     "metadata": {},
     "output_type": "execute_result"
    }
   ],
   "source": [
    "#數字+字串   不行\n",
    "#字串+字串  可以\n",
    "'35' + '35' #字串+字串\n"
   ]
  },
  {
   "cell_type": "code",
   "execution_count": null,
   "id": "af33b42e",
   "metadata": {},
   "outputs": [
    {
     "name": "stdout",
     "output_type": "stream",
     "text": [
      "nuber1= <class 'int'>\n",
      "nuber2= <class 'float'>\n",
      "value= <class 'float'> value數值= 30.0\n"
     ]
    }
   ],
   "source": [
    "nuber1 = 10 #建立變數 number1\n",
    "print('nuber1=', type(nuber1)) #type()函式可以檢查變數的型態\n",
    "nuber2 = 20.0\n",
    "print('nuber2=', type(nuber2)) \n",
    "value = nuber1 + nuber2\n",
    "print('value=', type(value),'value數值=', value) #value數值= 30.0"
   ]
  },
  {
   "cell_type": "code",
   "execution_count": null,
   "id": "e39359e1",
   "metadata": {},
   "outputs": [
    {
     "data": {
      "text/plain": [
       "60"
      ]
     },
     "execution_count": 17,
     "metadata": {},
     "output_type": "execute_result"
    }
   ],
   "source": [
    "#轉換型別\n",
    "str1 = \"30\"\n",
    "num1 =  30\n",
    "\n",
    "value = int(str1) + num1 \n",
    "value\n",
    "\n",
    "# int(\"30a\") 會報錯誤，因為\"30a\"不是整數 不能轉換"
   ]
  }
 ],
 "metadata": {
  "kernelspec": {
   "display_name": "base",
   "language": "python",
   "name": "python3"
  },
  "language_info": {
   "codemirror_mode": {
    "name": "ipython",
    "version": 3
   },
   "file_extension": ".py",
   "mimetype": "text/x-python",
   "name": "python",
   "nbconvert_exporter": "python",
   "pygments_lexer": "ipython3",
   "version": "3.13.2"
  }
 },
 "nbformat": 4,
 "nbformat_minor": 5
}
