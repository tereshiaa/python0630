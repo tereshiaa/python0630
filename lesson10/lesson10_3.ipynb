{
 "cells": [
  {
   "cell_type": "code",
   "execution_count": null,
   "id": "a78b4059",
   "metadata": {},
   "outputs": [],
   "source": [
    "## 類別\n",
    "## 實體"
   ]
  },
  {
   "cell_type": "code",
   "execution_count": 1,
   "id": "7d3c4799",
   "metadata": {},
   "outputs": [
    {
     "name": "stdout",
     "output_type": "stream",
     "text": [
      "<class 'list'>\n"
     ]
    }
   ],
   "source": [
    "my_list:list = [i for i in range(10)]\n",
    "print(type(my_list))\n",
    "#list的實體方法\n",
    "my_list.append(10)"
   ]
  },
  {
   "cell_type": "code",
   "execution_count": 3,
   "id": "40eac5d8",
   "metadata": {},
   "outputs": [
    {
     "data": {
      "text/plain": [
       "[-1, 11]"
      ]
     },
     "execution_count": 3,
     "metadata": {},
     "output_type": "execute_result"
    }
   ],
   "source": [
    "#建立my_list常用的實體方法\n",
    "my_list.clear()  # 清空列表\n",
    "my_list\n",
    "my_list.append(10)  # 在列表末尾添加元素\n",
    "my_list\n",
    "my_list.extend([11, 12])  # 在列表末尾添加多個元素\n",
    "my_list\n",
    "my_list.insert(0, -1)  # 在指定位置插入元素\n",
    "my_list\n",
    "my_list.remove(10)  # 移除列表中的第一個匹配項\n",
    "my_list\n",
    "my_list.pop()  # 移除並返回列表中的最後一個元素\n",
    "my_list"
   ]
  },
  {
   "cell_type": "code",
   "execution_count": 5,
   "id": "3c69b710",
   "metadata": {},
   "outputs": [
    {
     "data": {
      "text/plain": [
       "['robert', 'jenny', 'alice']"
      ]
     },
     "execution_count": 5,
     "metadata": {},
     "output_type": "execute_result"
    }
   ],
   "source": [
    "#str的實體方法\n",
    "\"taipei\".upper() # 將字符串轉換為大寫\n",
    "\"taipei\".capitalize()   # 將字符串的首字母轉換為大寫\n",
    "\"  taipei \".strip() # 去除字符串兩端的空格\n",
    "\"robert,jenny,alice\".split(\",\") # 將字符串按指定分隔符分割成列表"
   ]
  }
 ],
 "metadata": {
  "kernelspec": {
   "display_name": "base",
   "language": "python",
   "name": "python3"
  },
  "language_info": {
   "codemirror_mode": {
    "name": "ipython",
    "version": 3
   },
   "file_extension": ".py",
   "mimetype": "text/x-python",
   "name": "python",
   "nbconvert_exporter": "python",
   "pygments_lexer": "ipython3",
   "version": "3.13.2"
  }
 },
 "nbformat": 4,
 "nbformat_minor": 5
}
