{
 "cells": [
  {
   "cell_type": "markdown",
   "id": "6086004b",
   "metadata": {},
   "source": [
    "資料結構\n",
    "1.list  多個數值組合再一起\n",
    "\n",
    "2.dict \n",
    "\n",
    "3.set\n",
    "可以組合再一起\n"
   ]
  },
  {
   "cell_type": "code",
   "execution_count": 1,
   "id": "6bfdd550",
   "metadata": {},
   "outputs": [
    {
     "data": {
      "text/plain": [
       "0"
      ]
     },
     "execution_count": 1,
     "metadata": {},
     "output_type": "execute_result"
    }
   ],
   "source": [
    "empty_list = []\n",
    "type(empty_list)\n",
    "len(empty_list)\n"
   ]
  },
  {
   "cell_type": "code",
   "execution_count": 7,
   "id": "2c86d4e2",
   "metadata": {},
   "outputs": [],
   "source": [
    "weekdays = ['Mon', 'Tue', 'Wed', 'Thu', 'Fri' , 'Sat', 'Sun']"
   ]
  },
  {
   "cell_type": "code",
   "execution_count": 3,
   "id": "dbf72724",
   "metadata": {},
   "outputs": [
    {
     "data": {
      "text/plain": [
       "'Sun'"
      ]
     },
     "execution_count": 3,
     "metadata": {},
     "output_type": "execute_result"
    }
   ],
   "source": [
    "#取出元素\n",
    "#變數[]->subscript\n",
    "\n",
    "weekdays[0]\n",
    "weekdays[6]"
   ]
  },
  {
   "cell_type": "code",
   "execution_count": 14,
   "id": "950e3692",
   "metadata": {},
   "outputs": [
    {
     "data": {
      "text/plain": [
       "['Mon', 'Tue', 'Wed', 'Thu', 'Fri', 'Sat', 'Sun']"
      ]
     },
     "execution_count": 14,
     "metadata": {},
     "output_type": "execute_result"
    }
   ],
   "source": [
    "#取出部份元素\n",
    "#變數[前面:後面]\n",
    "#slice->切割\n",
    "weekdays[0:3] #從第一個開始到第三個(不包含)\n",
    "weekdays[:3] \n",
    "weekdays[-3:-1] #從倒數第三個開始到倒數第一個(不包含)\n",
    "weekdays[-3:] #從倒數第三個開始到最後一個\n",
    "weekdays[:] #從第一個開始到最後一個\n",
    "\n"
   ]
  },
  {
   "cell_type": "code",
   "execution_count": 15,
   "id": "5e610654",
   "metadata": {},
   "outputs": [
    {
     "data": {
      "text/plain": [
       "300"
      ]
     },
     "execution_count": 15,
     "metadata": {},
     "output_type": "execute_result"
    }
   ],
   "source": [
    "#tuple\n",
    "#tuple是不可以新增,修改,刪除元素\n",
    "#暫時的資料\n",
    "('a','A')\n",
    "'a','A'\n",
    "\n",
    "#tuple使用拆解法\n",
    "name, score = 'robert', 300\n",
    "name\n",
    "score"
   ]
  },
  {
   "cell_type": "code",
   "execution_count": 23,
   "id": "66aecfdc",
   "metadata": {},
   "outputs": [
    {
     "data": {
      "text/plain": [
       "[10, 20, 30, 40]"
      ]
     },
     "execution_count": 23,
     "metadata": {},
     "output_type": "execute_result"
    }
   ],
   "source": [
    "#list comprehension -> list的綜合語法\n",
    "#快速建立list\n",
    "#[運算式 for 區塊變數 in 串列資料]\n",
    "\n",
    "[i*5 for i in range(1,10)]\n",
    "\n",
    "\n",
    "\n",
    "#[運算式 for 區塊變數 in 串列資料 if 比較運算]\n",
    "[i*5 for i in range(1,10) if i % 2 == 0]"
   ]
  }
 ],
 "metadata": {
  "kernelspec": {
   "display_name": "base",
   "language": "python",
   "name": "python3"
  },
  "language_info": {
   "codemirror_mode": {
    "name": "ipython",
    "version": 3
   },
   "file_extension": ".py",
   "mimetype": "text/x-python",
   "name": "python",
   "nbconvert_exporter": "python",
   "pygments_lexer": "ipython3",
   "version": "3.13.2"
  }
 },
 "nbformat": 4,
 "nbformat_minor": 5
}
