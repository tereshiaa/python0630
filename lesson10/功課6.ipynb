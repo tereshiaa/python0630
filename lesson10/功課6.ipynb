{
 "cells": [
  {
   "cell_type": "markdown",
   "id": "ed5f67e6",
   "metadata": {},
   "source": [
    "有一個 names.txt\n",
    "獲取 names.txt\n",
    "\n",
    "with open(\"names.txt\",encoding=\"utf-8\") as file:\n",
    "    content:str = file.read()\n",
    "    names:list = content.split(\"\\n\")\n",
    "\n",
    "for name in names:\n",
    "    print(name)\n",
    "\n",
    "請隨機取出3個名字\n",
    "建立2維的list,結構如下\n",
    "每個姓名有3個分數,分數是(50~100)的隨機數\n",
    "\n",
    "[['陳怡伶',67,92,97],\n",
    "['馮芳如',98,86,75],\n",
    "['蒙淑惠',76,65,59]]"
   ]
  },
  {
   "cell_type": "code",
   "execution_count": 2,
   "id": "71d9338e",
   "metadata": {},
   "outputs": [
    {
     "name": "stdout",
     "output_type": "stream",
     "text": [
      "[['張家秀', 79, 61, 54], ['蔡欣汝', 92, 97, 70], ['錢佩豪', 51, 52, 69]]\n"
     ]
    }
   ],
   "source": [
    "import random\n",
    "\n",
    "with open(\"names.txt\", encoding=\"utf-8\") as file:\n",
    "    content: str = file.read()\n",
    "    names: list = content.split(\"\\n\")\n",
    "\n",
    "# 隨機取出三個名字\n",
    "sample_names = random.sample(names, 3)\n",
    "\n",
    "# 建立二維list，每個名字有三個隨機分數(50~100)\n",
    "result = []\n",
    "for name in sample_names:\n",
    "    scores = [random.randint(50, 100) for _ in range(3)]\n",
    "    result.append([name] + scores)\n",
    "\n",
    "print(result)"
   ]
  }
 ],
 "metadata": {
  "kernelspec": {
   "display_name": "base",
   "language": "python",
   "name": "python3"
  },
  "language_info": {
   "codemirror_mode": {
    "name": "ipython",
    "version": 3
   },
   "file_extension": ".py",
   "mimetype": "text/x-python",
   "name": "python",
   "nbconvert_exporter": "python",
   "pygments_lexer": "ipython3",
   "version": "3.13.2"
  }
 },
 "nbformat": 4,
 "nbformat_minor": 5
}
