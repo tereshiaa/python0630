{
 "cells": [
  {
   "cell_type": "code",
   "execution_count": 1,
   "id": "6d7f825c",
   "metadata": {},
   "outputs": [
    {
     "data": {
      "text/plain": [
       "[1, 2, 3, '4']"
      ]
     },
     "execution_count": 1,
     "metadata": {},
     "output_type": "execute_result"
    }
   ],
   "source": [
    "#numpy和list有何不同\n",
    "\n",
    "py_list = [1, 2, 3, '4'] #list 可以放不同型別\n",
    "py_list"
   ]
  },
  {
   "cell_type": "code",
   "execution_count": 2,
   "id": "3b69123f",
   "metadata": {},
   "outputs": [
    {
     "data": {
      "text/plain": [
       "array([1, 2, 3, 4])"
      ]
     },
     "execution_count": 2,
     "metadata": {},
     "output_type": "execute_result"
    }
   ],
   "source": [
    "import numpy as np\n",
    "np_array = np.array([1, 2, 3, 4])  #nd_array 必需要相同型別\n",
    "np_array"
   ]
  }
 ],
 "metadata": {
  "kernelspec": {
   "display_name": "a0804",
   "language": "python",
   "name": "python3"
  },
  "language_info": {
   "codemirror_mode": {
    "name": "ipython",
    "version": 3
   },
   "file_extension": ".py",
   "mimetype": "text/x-python",
   "name": "python",
   "nbconvert_exporter": "python",
   "pygments_lexer": "ipython3",
   "version": "3.12.11"
  }
 },
 "nbformat": 4,
 "nbformat_minor": 5
}
