{
 "cells": [
  {
   "cell_type": "code",
   "execution_count": 3,
   "id": "a2eade7e",
   "metadata": {},
   "outputs": [],
   "source": [
    "def menu(wine:str, entree:str, dessert:str):\n",
    "    print(f\"酒類:{wine}\")\n",
    "    print(f\"主餐:{entree}\")\n",
    "    print(f\"甜點:{dessert}\")"
   ]
  },
  {
   "cell_type": "code",
   "execution_count": 4,
   "id": "dcb80a64",
   "metadata": {},
   "outputs": [
    {
     "name": "stdout",
     "output_type": "stream",
     "text": [
      "酒類:白酒\n",
      "主餐:牛排\n",
      "甜點:蛋糕\n"
     ]
    }
   ],
   "source": [
    "#引數值的呼叫,依照參數順序\n",
    "menu(\"白酒\",\"牛排\",\"蛋糕\")"
   ]
  },
  {
   "cell_type": "code",
   "execution_count": 5,
   "id": "2be64c17",
   "metadata": {},
   "outputs": [
    {
     "name": "stdout",
     "output_type": "stream",
     "text": [
      "酒類:白酒\n",
      "主餐:牛排\n",
      "甜點:蛋糕\n",
      "=============\n",
      "酒類:白酒\n",
      "主餐:牛排\n",
      "甜點:蛋糕\n"
     ]
    }
   ],
   "source": [
    "#引數名稱的呼叫,可以不依照順序\n",
    "menu(wine=\"白酒\",entree=\"牛排\",dessert=\"蛋糕\")\n",
    "print(\"=============\")\n",
    "menu(entree=\"牛排\",dessert=\"蛋糕\",wine=\"白酒\")"
   ]
  },
  {
   "cell_type": "code",
   "execution_count": 6,
   "id": "7951aef1",
   "metadata": {},
   "outputs": [
    {
     "name": "stdout",
     "output_type": "stream",
     "text": [
      "酒類:白酒\n",
      "主餐:牛排\n",
      "甜點:蛋糕\n",
      "============\n",
      "酒類:白酒\n",
      "主餐:牛排\n",
      "甜點:蛋糕\n"
     ]
    }
   ],
   "source": [
    "#混合呼叫\n",
    "#前面一定要是引數值呼叫\n",
    "#後面要引數名稱的呼叫\n",
    "#使用引數名稱呼叫後,後面全部要用引數名稱呼叫\n",
    "menu('白酒',entree=\"牛排\",dessert=\"蛋糕\")\n",
    "print(\"============\")\n",
    "menu('白酒',dessert=\"蛋糕\",entree=\"牛排\")"
   ]
  },
  {
   "cell_type": "code",
   "execution_count": 7,
   "id": "ff469464",
   "metadata": {},
   "outputs": [],
   "source": [
    "#有預設值的參數,一定放在最後面\n",
    "def menu(wine:str, entree:str, dessert:str='奶昔'):\n",
    "    print(f\"酒類:{wine}\")\n",
    "    print(f\"主餐:{entree}\")\n",
    "    print(f\"甜點:{dessert}\")"
   ]
  },
  {
   "cell_type": "code",
   "execution_count": 8,
   "id": "a7341f5f",
   "metadata": {},
   "outputs": [
    {
     "name": "stdout",
     "output_type": "stream",
     "text": [
      "酒類:白酒\n",
      "主餐:牛排\n",
      "甜點:奶昔\n",
      "=============\n",
      "酒類:白酒\n",
      "主餐:牛排\n",
      "甜點:蛋糕\n"
     ]
    }
   ],
   "source": [
    "menu('白酒','牛排')\n",
    "print(\"=============\")\n",
    "menu('白酒','牛排',dessert='蛋糕')"
   ]
  },
  {
   "cell_type": "code",
   "execution_count": 9,
   "id": "d778da0f",
   "metadata": {},
   "outputs": [
    {
     "data": {
      "text/plain": [
       "3.14"
      ]
     },
     "execution_count": 9,
     "metadata": {},
     "output_type": "execute_result"
    }
   ],
   "source": [
    "round(3.14159)\n",
    "round(3.14159,ndigits=2)"
   ]
  }
 ],
 "metadata": {
  "kernelspec": {
   "display_name": "base",
   "language": "python",
   "name": "python3"
  },
  "language_info": {
   "codemirror_mode": {
    "name": "ipython",
    "version": 3
   },
   "file_extension": ".py",
   "mimetype": "text/x-python",
   "name": "python",
   "nbconvert_exporter": "python",
   "pygments_lexer": "ipython3",
   "version": "3.13.2"
  }
 },
 "nbformat": 4,
 "nbformat_minor": 5
}
