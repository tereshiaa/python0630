{
 "cells": [
  {
   "cell_type": "code",
   "execution_count": 2,
   "id": "78e1fd65",
   "metadata": {},
   "outputs": [
    {
     "name": "stdout",
     "output_type": "stream",
     "text": [
      "Hello! 您好\n"
     ]
    }
   ],
   "source": [
    "def say_hello():\n",
    "    print(\"Hello! 您好\")\n",
    "\n",
    "say_hello()"
   ]
  },
  {
   "cell_type": "code",
   "execution_count": 4,
   "id": "6b6fc476",
   "metadata": {},
   "outputs": [
    {
     "name": "stdout",
     "output_type": "stream",
     "text": [
      "Robert! 您好\n"
     ]
    }
   ],
   "source": [
    "def say_hello(name):\n",
    "    print(f\"{name}! 您好\")\n",
    "\n",
    "say_hello(\"Robert\")"
   ]
  },
  {
   "cell_type": "code",
   "execution_count": 10,
   "id": "35c82b3b",
   "metadata": {},
   "outputs": [
    {
     "name": "stdout",
     "output_type": "stream",
     "text": [
      "Robert! 您好\n"
     ]
    }
   ],
   "source": [
    "def say_hello(name:str)->str:\n",
    "    return f\"{name}! 您好\"\n",
    "\n",
    "print(say_hello(\"Robert\"))"
   ]
  },
  {
   "cell_type": "code",
   "execution_count": null,
   "id": "b955d901",
   "metadata": {},
   "outputs": [],
   "source": [
    "#type hinting  型別提示   寫法\n",
    "name:str = \"robert\"\n",
    "age:int = 45"
   ]
  }
 ],
 "metadata": {
  "kernelspec": {
   "display_name": "base",
   "language": "python",
   "name": "python3"
  },
  "language_info": {
   "codemirror_mode": {
    "name": "ipython",
    "version": 3
   },
   "file_extension": ".py",
   "mimetype": "text/x-python",
   "name": "python",
   "nbconvert_exporter": "python",
   "pygments_lexer": "ipython3",
   "version": "3.13.2"
  }
 },
 "nbformat": 4,
 "nbformat_minor": 5
}
