{
 "cells": [
  {
   "cell_type": "code",
   "execution_count": null,
   "id": "f4a5d95a",
   "metadata": {},
   "outputs": [],
   "source": [
    "try:\n",
    "    height = float(input(\"請輸入身高(120-250(cm))\"))\n",
    "    if 120 <= height <= 250:\n",
    "        print(\"  您的身高為:\",height,\"cm\")\n",
    "    else:\n",
    "        raise Exception(\"身高數字需在120~250(cm)內\")\n",
    "    weight = float(input(\"請輸入體重(30~200(kg))\"))\n",
    "    if 30 <= weight <= 200:\n",
    "        print(\"  您的體重為:\",weight,\"kg\")\n",
    "    else:\n",
    "        raise Exception(\"體重數字需在30~200(kg)內\")\n",
    "except ValueError as e:\n",
    "    print(\"格式錯誤\",e)\n",
    "except Exception as e:\n",
    "    print(e)\n",
    "else:\n",
    "    BMI = weight / (height / 100) ** 2\n",
    "    print(\"👉您的BMI為:\",round(BMI,ndigits = 1),\"(kg/m²)\") \n",
    "finally:\n",
    "    print(\"～應用程式結束～\")"
   ]
  },
  {
   "cell_type": "code",
   "execution_count": 15,
   "id": "cb4ec935",
   "metadata": {},
   "outputs": [
    {
     "name": "stdout",
     "output_type": "stream",
     "text": [
      "您的身高為: 200.0 cm\n",
      "您的體重為: 100.0 kg\n",
      "您的BMI為: 25.0 (kg/m²)\n",
      "過重\n"
     ]
    }
   ],
   "source": [
    "try:\n",
    "    height = float(input(\"請輸入身高(120-250(cm))\"))\n",
    "    if not(120 <= height <= 250):\n",
    "        raise Exception(\"身高數字需在120~250(cm)內\")\n",
    "     \n",
    "    weight = float(input(\"請輸入體重(30~200(kg))\"))\n",
    "    if not(30 <= weight <= 200):\n",
    "        raise Exception(\"體重數字需在30~200(kg)內\")\n",
    "    \n",
    "    print(\"您的身高為:\",height,\"cm\")\n",
    "    print(\"您的體重為:\",weight,\"kg\")\n",
    "        \n",
    "except ValueError as e:\n",
    "    print(\"格式錯誤\",e)\n",
    "except Exception as e:\n",
    "    print(e)\n",
    "else:\n",
    "    BMI = weight / (height / 100) ** 2\n",
    "    print(\"您的BMI為:\",round(BMI,ndigits = 1),\"(kg/m²)\") \n",
    "    if BMI < 18.5:\n",
    "        print(\"體重過輕\")\n",
    "    elif 18.5 <= BMI < 24:\n",
    "        print(\"體重正常\")\n",
    "    elif 24 <= BMI < 27:\n",
    "        print(\"過重\")\n",
    "    elif 27 <= BMI < 30:\n",
    "        print(\"輕度肥胖\")\n",
    "    elif 30 <= BMI < 35:\n",
    "        print(\"中度肥胖\")\n",
    "    else:\n",
    "        print(\"重度肥胖\")\n",
    "    \n",
    "\n",
    "  "
   ]
  }
 ],
 "metadata": {
  "kernelspec": {
   "display_name": "base",
   "language": "python",
   "name": "python3"
  },
  "language_info": {
   "codemirror_mode": {
    "name": "ipython",
    "version": 3
   },
   "file_extension": ".py",
   "mimetype": "text/x-python",
   "name": "python",
   "nbconvert_exporter": "python",
   "pygments_lexer": "ipython3",
   "version": "3.13.2"
  }
 },
 "nbformat": 4,
 "nbformat_minor": 5
}
