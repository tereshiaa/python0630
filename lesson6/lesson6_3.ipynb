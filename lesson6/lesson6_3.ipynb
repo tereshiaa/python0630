{
 "cells": [
  {
   "cell_type": "code",
   "execution_count": null,
   "id": "81773c84",
   "metadata": {},
   "outputs": [],
   "source": [
    "total = 0\n",
    "total += 1\n",
    "total += 2\n",
    "total += 3\n",
    "total += 4\n",
    "total += 5\n",
    "total += 6\n",
    "total += 7\n",
    "total += 8\n",
    "total += 9\n",
    "total += 10\n",
    "total"
   ]
  },
  {
   "cell_type": "code",
   "execution_count": 1,
   "id": "92038642",
   "metadata": {},
   "outputs": [
    {
     "name": "stdout",
     "output_type": "stream",
     "text": [
      "a\n",
      "b\n",
      "c\n",
      "d\n",
      "e\n"
     ]
    }
   ],
   "source": [
    "for word in 'abcde':\n",
    "    print(word)"
   ]
  },
  {
   "cell_type": "code",
   "execution_count": 6,
   "id": "9fb66dd5",
   "metadata": {},
   "outputs": [
    {
     "name": "stdout",
     "output_type": "stream",
     "text": [
      "5050\n"
     ]
    }
   ],
   "source": [
    "total = 0\n",
    "for i in range(1,101):\n",
    "    total += i\n",
    "print(total)"
   ]
  },
  {
   "cell_type": "code",
   "execution_count": 16,
   "id": "ee4d2d8b",
   "metadata": {},
   "outputs": [
    {
     "name": "stdout",
     "output_type": "stream",
     "text": [
      "i= 1\n",
      "j=1,j=2,j=3,j=4,j=5,j=6,j=7,j=8,j=9,\n",
      "==============\n",
      "i= 3\n",
      "j=1,j=2,j=3,j=4,j=5,j=6,j=7,j=8,j=9,\n",
      "==============\n",
      "i= 5\n",
      "j=1,j=2,j=3,j=4,j=5,j=6,j=7,j=8,j=9,\n",
      "==============\n",
      "i= 7\n",
      "j=1,j=2,j=3,j=4,j=5,j=6,j=7,j=8,j=9,\n",
      "==============\n",
      "i= 9\n",
      "j=1,j=2,j=3,j=4,j=5,j=6,j=7,j=8,j=9,\n",
      "==============\n"
     ]
    }
   ],
   "source": [
    "for i in range(1,10,2):\n",
    "    print(\"i=\",i)\n",
    "    for j in range(1,10,1):\n",
    "        print(\"j=\",j,sep=\"\",end=\",\")\n",
    "    print(\"\\n==============\")"
   ]
  },
  {
   "cell_type": "code",
   "execution_count": 38,
   "id": "e95db489",
   "metadata": {},
   "outputs": [
    {
     "name": "stdout",
     "output_type": "stream",
     "text": [
      "1*1=1 2*1=2 3*1=3 4*1=4 5*1=5 6*1=6 7*1=7 8*1=8 9*1=9 \n",
      "\n",
      "1*2=2 2*2=4 3*2=6 4*2=8 5*2=10 6*2=12 7*2=14 8*2=16 9*2=18 \n",
      "\n",
      "1*3=3 2*3=6 3*3=9 4*3=12 5*3=15 6*3=18 7*3=21 8*3=24 9*3=27 \n",
      "\n",
      "1*4=4 2*4=8 3*4=12 4*4=16 5*4=20 6*4=24 7*4=28 8*4=32 9*4=36 \n",
      "\n",
      "1*5=5 2*5=10 3*5=15 4*5=20 5*5=25 6*5=30 7*5=35 8*5=40 9*5=45 \n",
      "\n",
      "1*6=6 2*6=12 3*6=18 4*6=24 5*6=30 6*6=36 7*6=42 8*6=48 9*6=54 \n",
      "\n",
      "1*7=7 2*7=14 3*7=21 4*7=28 5*7=35 6*7=42 7*7=49 8*7=56 9*7=63 \n",
      "\n",
      "1*8=8 2*8=16 3*8=24 4*8=32 5*8=40 6*8=48 7*8=56 8*8=64 9*8=72 \n",
      "\n",
      "1*9=9 2*9=18 3*9=27 4*9=36 5*9=45 6*9=54 7*9=63 8*9=72 9*9=81 \n",
      "\n"
     ]
    }
   ],
   "source": [
    "for i in range(1,10):\n",
    "    for j in range(1,10):\n",
    "        print(j,'*',i,'=',i*j,end=\" \",sep='')\n",
    "    print(\"\\n\")"
   ]
  },
  {
   "cell_type": "markdown",
   "id": "bad2fccd",
   "metadata": {},
   "source": [
    "字串差補"
   ]
  },
  {
   "cell_type": "code",
   "execution_count": 2,
   "id": "aaeda3ac",
   "metadata": {},
   "outputs": [
    {
     "name": "stdout",
     "output_type": "stream",
     "text": [
      " 1*1 = 1    2*1 = 2    3*1 = 3    4*1 = 4    5*1 = 5    6*1 = 6    7*1 = 7    8*1 = 8    9*1 = 9   \n",
      "\n",
      " 1*2 = 2    2*2 = 4    3*2 = 6    4*2 = 8    5*2 =10    6*2 =12    7*2 =14    8*2 =16    9*2 =18   \n",
      "\n",
      " 1*3 = 3    2*3 = 6    3*3 = 9    4*3 =12    5*3 =15    6*3 =18    7*3 =21    8*3 =24    9*3 =27   \n",
      "\n",
      " 1*4 = 4    2*4 = 8    3*4 =12    4*4 =16    5*4 =20    6*4 =24    7*4 =28    8*4 =32    9*4 =36   \n",
      "\n",
      " 1*5 = 5    2*5 =10    3*5 =15    4*5 =20    5*5 =25    6*5 =30    7*5 =35    8*5 =40    9*5 =45   \n",
      "\n",
      " 1*6 = 6    2*6 =12    3*6 =18    4*6 =24    5*6 =30    6*6 =36    7*6 =42    8*6 =48    9*6 =54   \n",
      "\n",
      " 1*7 = 7    2*7 =14    3*7 =21    4*7 =28    5*7 =35    6*7 =42    7*7 =49    8*7 =56    9*7 =63   \n",
      "\n",
      " 1*8 = 8    2*8 =16    3*8 =24    4*8 =32    5*8 =40    6*8 =48    7*8 =56    8*8 =64    9*8 =72   \n",
      "\n",
      " 1*9 = 9    2*9 =18    3*9 =27    4*9 =36    5*9 =45    6*9 =54    7*9 =63    8*9 =72    9*9 =81   \n",
      "\n"
     ]
    }
   ],
   "source": [
    "for i in range(1,10):\n",
    "    for j in range(1,10):\n",
    "        print(f\"{j:2d}*{i:<2d}={i*j:2d}\",end='   ')  #<2d表示左對齊，:2d表示右對齊  \n",
    "    print(\"\\n\")"
   ]
  },
  {
   "cell_type": "code",
   "execution_count": 1,
   "id": "7c0f5d35",
   "metadata": {},
   "outputs": [
    {
     "name": "stdout",
     "output_type": "stream",
     "text": [
      "10\n",
      "9\n",
      "8\n",
      "7\n",
      "6\n",
      "5\n",
      "4\n",
      "3\n",
      "2\n",
      "1\n"
     ]
    }
   ],
   "source": [
    "#使用while迴圈要小心產生無限迴圈\n",
    "i = 10\n",
    "while(i > 0):\n",
    "    print(i)\n",
    "    i -= 1"
   ]
  }
 ],
 "metadata": {
  "kernelspec": {
   "display_name": "base",
   "language": "python",
   "name": "python3"
  },
  "language_info": {
   "codemirror_mode": {
    "name": "ipython",
    "version": 3
   },
   "file_extension": ".py",
   "mimetype": "text/x-python",
   "name": "python",
   "nbconvert_exporter": "python",
   "pygments_lexer": "ipython3",
   "version": "3.13.2"
  }
 },
 "nbformat": 4,
 "nbformat_minor": 5
}
