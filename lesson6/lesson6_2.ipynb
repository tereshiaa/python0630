{
 "cells": [
  {
   "cell_type": "code",
   "execution_count": null,
   "id": "048ac13d",
   "metadata": {},
   "outputs": [],
   "source": [
    "score = int(input(\"請輸入學生分數\"))\n",
    "if score >= 90:\n",
    "    print(\"優\")\n",
    "elif score >= 80:\n",
    "    print(\"甲\")\n",
    "elif score >= 70:\n",
    "    print(\"乙\")\n",
    "elif score >= 60:\n",
    "    print(\"丙\")\n",
    "elif score >= 50:\n",
    "    print(\"丁\")\n",
    "elif score >= 40:\n",
    "    print(\"戊\")\n",
    "elif score >= 30:"
   ]
  },
  {
   "cell_type": "code",
   "execution_count": 1,
   "id": "2b1249d6",
   "metadata": {},
   "outputs": [
    {
     "name": "stdout",
     "output_type": "stream",
     "text": [
      "丙\n"
     ]
    }
   ],
   "source": [
    "score = int(input(\"請輸入學生分數：\"))\n",
    "\n",
    "grades = [(90, \"優\"), (80, \"甲\"), (70, \"乙\"), (60, \"丙\"), (50, \"丁\"), (40, \"戊\"), (30, \"己\")]\n",
    "\n",
    "print(next((grade for threshold, grade in grades if score >= threshold), \"不及格\"))"
   ]
  }
 ],
 "metadata": {
  "kernelspec": {
   "display_name": "base",
   "language": "python",
   "name": "python3"
  },
  "language_info": {
   "codemirror_mode": {
    "name": "ipython",
    "version": 3
   },
   "file_extension": ".py",
   "mimetype": "text/x-python",
   "name": "python",
   "nbconvert_exporter": "python",
   "pygments_lexer": "ipython3",
   "version": "3.13.2"
  }
 },
 "nbformat": 4,
 "nbformat_minor": 5
}
