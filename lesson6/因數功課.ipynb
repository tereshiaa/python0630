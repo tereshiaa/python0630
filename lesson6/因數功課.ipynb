{
 "cells": [
  {
   "cell_type": "code",
   "execution_count": 5,
   "id": "6d63b570",
   "metadata": {},
   "outputs": [
    {
     "name": "stdout",
     "output_type": "stream",
     "text": [
      "輸入:\n",
      "\n",
      "\n",
      "請輸入整數,求所有的因數:100\n",
      "\n",
      "輸出:\n",
      "\n",
      "100的因數: 1 2 4 5 10 20 25 50 100 "
     ]
    }
   ],
   "source": [
    "#第一題\n",
    "print(f\"輸入:\\n\\n\")\n",
    "i = int(input(\"請輸入整數,求所有的因數:\"))\n",
    "print(f\"請輸入整數,求所有的因數:{i}\\n\\n輸出:\\n\\n{i}的因數:\", end=\" \")\n",
    "for j in range(1, i + 1): # 循環從1到i\n",
    "    if i % j == 0:\n",
    "        print(j,end=\" \")"
   ]
  },
  {
   "cell_type": "code",
   "execution_count": 12,
   "id": "ac6b1464",
   "metadata": {},
   "outputs": [
    {
     "name": "stdout",
     "output_type": "stream",
     "text": [
      "輸入:\n",
      "\n",
      "請輸入第一個整數:10\n",
      "請輸入第二個整數:15\n",
      "輸出:\n",
      "\n",
      "10和15的因數: 1 5 "
     ]
    }
   ],
   "source": [
    "#第二題\n",
    "i = int(input(\"請輸入第一個整數\"))\n",
    "j = int(input(\"請輸入第二個整數\"))\n",
    "print(f\"輸入:\\n\\n請輸入第一個整數:{i:2d}\\n請輸入第二個整數:{j:2d}\")\n",
    "\n",
    "if i < j:\n",
    "    k = i\n",
    "else:\n",
    "    k = j\n",
    "print(f\"輸出:\\n\\n{i}和{j}的因數:\", end=\" \")\n",
    "for l in range(1, k + 1): \n",
    "    if i % l == 0 and j % l == 0:\n",
    "        print(f'{l}', end=\" \")\n",
    "\n",
    "\n"
   ]
  }
 ],
 "metadata": {
  "kernelspec": {
   "display_name": "base",
   "language": "python",
   "name": "python3"
  },
  "language_info": {
   "codemirror_mode": {
    "name": "ipython",
    "version": 3
   },
   "file_extension": ".py",
   "mimetype": "text/x-python",
   "name": "python",
   "nbconvert_exporter": "python",
   "pygments_lexer": "ipython3",
   "version": "3.13.2"
  }
 },
 "nbformat": 4,
 "nbformat_minor": 5
}
