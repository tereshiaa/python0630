{
 "cells": [
  {
   "cell_type": "code",
   "execution_count": null,
   "id": "3d339821",
   "metadata": {},
   "outputs": [
    {
     "name": "stdout",
     "output_type": "stream",
     "text": [
      "總和為: 8.0\n"
     ]
    }
   ],
   "source": [
    "value1 = float(input(\"清輸入數值1:\"))\n",
    "value2 = float(input(\"清輸入數值2:\"))\n",
    "value3 = float(input(\"清輸入數值3:\"))\n",
    "TOTAL = value1 + value2 + value3\n",
    "print(\"總和為:\", TOTAL)     \n"
   ]
  },
  {
   "cell_type": "code",
   "execution_count": null,
   "id": "d260c1d3",
   "metadata": {},
   "outputs": [],
   "source": [
    "n = 25\n",
    "n = n + 25\n",
    "print(\"n=\", n)"
   ]
  },
  {
   "cell_type": "code",
   "execution_count": null,
   "id": "714ef0e6",
   "metadata": {},
   "outputs": [],
   "source": [
    "#複合指定運算子\n",
    "# +=\n",
    "# -=\n",
    "# *=\n",
    "\n",
    "n = 25\n",
    "n += 25\n",
    "n *= 2\n",
    "print(\"n=\", n)"
   ]
  },
  {
   "cell_type": "code",
   "execution_count": null,
   "id": "94d394b2",
   "metadata": {},
   "outputs": [],
   "source": [
    "#複合指定運算子\n",
    "\n",
    "total = 0\n",
    "value = float(input(\"請輸入第1個值:\"))\n",
    "total += value\n",
    "\n",
    "value = float(input(\"請輸入第2個值:\"))\n",
    "total += value\n",
    "\n",
    "value = float(input(\"請輸入第3個值:\"))\n",
    "total += value\n",
    "\n",
    "print(\"3數的加總是:\", total)"
   ]
  },
  {
   "cell_type": "code",
   "execution_count": 12,
   "id": "7dadb3f3",
   "metadata": {},
   "outputs": [
    {
     "name": "stdout",
     "output_type": "stream",
     "text": [
      "a= 3.0 b= 4.0 斜邊長度為: 5.0\n"
     ]
    }
   ],
   "source": [
    "#直角三角形\n",
    "import math\n",
    "a = float(input(\"請輸入直角邊1:\"))\n",
    "b = float(input(\"請輸入直角邊2:\"))\n",
    "C = math.sqrt(a**2 +b**2)\n",
    "print(\"a=\", a, \"b=\", b, \"斜邊長度為:\", C)"
   ]
  },
  {
   "cell_type": "code",
   "execution_count": 1,
   "id": "2bb0cbc6",
   "metadata": {},
   "outputs": [
    {
     "ename": "ValueError",
     "evalue": "could not convert string to float: ''",
     "output_type": "error",
     "traceback": [
      "\u001b[31m---------------------------------------------------------------------------\u001b[39m",
      "\u001b[31mValueError\u001b[39m                                Traceback (most recent call last)",
      "\u001b[36mCell\u001b[39m\u001b[36m \u001b[39m\u001b[32mIn[1]\u001b[39m\u001b[32m, line 2\u001b[39m\n\u001b[32m      1\u001b[39m \u001b[38;5;28;01mimport\u001b[39;00m\u001b[38;5;250m \u001b[39m\u001b[34;01mmath\u001b[39;00m\n\u001b[32m----> \u001b[39m\u001b[32m2\u001b[39m side = \u001b[38;5;28;43mfloat\u001b[39;49m\u001b[43m(\u001b[49m\u001b[38;5;28;43minput\u001b[39;49m\u001b[43m(\u001b[49m\u001b[33;43m\"\u001b[39;49m\u001b[33;43m請輸入斜邊:\u001b[39;49m\u001b[33;43m\"\u001b[39;49m\u001b[43m)\u001b[49m\u001b[43m)\u001b[49m\n\u001b[32m      3\u001b[39m other_side = \u001b[38;5;28mfloat\u001b[39m(\u001b[38;5;28minput\u001b[39m(\u001b[33m\"\u001b[39m\u001b[33m請輸入對邊:\u001b[39m\u001b[33m\"\u001b[39m))\n\u001b[32m      4\u001b[39m radians = math.asin(other_side / side)\n",
      "\u001b[31mValueError\u001b[39m: could not convert string to float: ''"
     ]
    }
   ],
   "source": [
    "import math\n",
    "side = float(input(\"請輸入斜邊:\"))\n",
    "other_side = float(input(\"請輸入對邊:\"))\n",
    "radians = math.asin(other_side / side)\n",
    "degrees = math.degrees(radians)\n",
    "print(\"直角三角形角度是:\", degrees)\n"
   ]
  },
  {
   "cell_type": "code",
   "execution_count": 4,
   "id": "3054629d",
   "metadata": {},
   "outputs": [
    {
     "data": {
      "text/plain": [
       "1.0810874155219827"
      ]
     },
     "execution_count": 4,
     "metadata": {},
     "output_type": "execute_result"
    }
   ],
   "source": [
    "#標準差\n",
    "import statistics  \n",
    "statistics.stdev([1.5, 2.5, 2.5, 2.75, 3.25, 4.75])"
   ]
  }
 ],
 "metadata": {
  "kernelspec": {
   "display_name": "base",
   "language": "python",
   "name": "python3"
  },
  "language_info": {
   "codemirror_mode": {
    "name": "ipython",
    "version": 3
   },
   "file_extension": ".py",
   "mimetype": "text/x-python",
   "name": "python",
   "nbconvert_exporter": "python",
   "pygments_lexer": "ipython3",
   "version": "3.13.2"
  }
 },
 "nbformat": 4,
 "nbformat_minor": 5
}
