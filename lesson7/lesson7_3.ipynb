{
 "cells": [
  {
   "cell_type": "code",
   "execution_count": 4,
   "id": "bea16e3d",
   "metadata": {},
   "outputs": [
    {
     "name": "stdout",
     "output_type": "stream",
     "text": [
      "==========猜數字遊戲===========\n",
      "\n",
      "猜數字範圍 1~4\n",
      "您猜4 小一點!\n",
      "您猜4 小一點!\n",
      "您猜3 小一點!\n",
      "您猜3 小一點!\n",
      "您猜2猜對了, 答案是: 2 您猜了 3 次\n",
      "遊戲結束\n",
      "總共遊玩了 1 次\n",
      "您猜2猜對了, 答案是: 2 您猜了 3 次\n",
      "遊戲結束\n",
      "總共遊玩了 1 次\n"
     ]
    }
   ],
   "source": [
    "import random\n",
    "\n",
    "min_value = 1\n",
    "max_value = 4\n",
    "count = 0\n",
    "total_games = 0  # 用來統計總共遊玩的次數\n",
    "\n",
    "\n",
    "print(\"==========猜數字遊戲===========\\n\")\n",
    "\n",
    "while True:\n",
    "    guess_value = random.randint(min_value, max_value)  # 隨機產生一個數字\n",
    "    print(f\"猜數字範圍 {min_value}~{max_value}\")\n",
    "    while True:  # 猜數字的內層遊戲迴圈\n",
    "        keyin = int(input(f\"數字範圍 {min_value}~{max_value}\"))\n",
    "        count += 1        \n",
    "        if keyin >= min_value and keyin <= max_value:\n",
    "            if keyin == guess_value:\n",
    "                print(f\"您猜{keyin}猜對了, 答案是: {guess_value} 您猜了 {count} 次\")\n",
    "                total_games += 1  # 增加總遊玩次數                \n",
    "                break\n",
    "            elif keyin > guess_value:\n",
    "                print(f\"您猜{keyin} 小一點!\")\n",
    "                max_value = keyin - 1\n",
    "            else:\n",
    "                print(f\"您猜{keyin} 大一點!\")\n",
    "                min_value = keyin + 1\n",
    "                print(f\"您已經猜 {count} 次\")\n",
    "        else:\n",
    "            print(f\"請輸入範圍內的數字，您已經猜了 {count} 次\")    \n",
    "    break  # 結束外層迴圈，結束遊戲\n",
    "\n",
    "print(\"遊戲結束\")\n",
    "print(f\"總共遊玩了 {total_games} 次\")  # 顯示總共遊玩的次數"
   ]
  }
 ],
 "metadata": {
  "kernelspec": {
   "display_name": "base",
   "language": "python",
   "name": "python3"
  },
  "language_info": {
   "codemirror_mode": {
    "name": "ipython",
    "version": 3
   },
   "file_extension": ".py",
   "mimetype": "text/x-python",
   "name": "python",
   "nbconvert_exporter": "python",
   "pygments_lexer": "ipython3",
   "version": "3.13.2"
  }
 },
 "nbformat": 4,
 "nbformat_minor": 5
}
