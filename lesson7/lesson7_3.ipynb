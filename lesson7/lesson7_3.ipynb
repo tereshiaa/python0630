{
 "cells": [
  {
   "cell_type": "code",
   "execution_count": null,
   "id": "bea16e3d",
   "metadata": {},
   "outputs": [
    {
     "name": "stdout",
     "output_type": "stream",
     "text": [
      "==========猜數字遊戲===========\n",
      "\n",
      "請輸入整數數字！\n",
      "再小一點！\n",
      "您已經猜 1 次\n",
      "請輸入提示範圍內的數字\n",
      "再小一點！\n",
      "您已經猜 2 次\n",
      "賓果! 猜對了，答案是: 1\n",
      "您猜了 3 次\n",
      "您總共玩了 1 次\n",
      "遊戲結束\n",
      "您已經猜 3 次\n",
      "請輸入整數數字！\n",
      "賓果! 猜對了，答案是: 1\n",
      "您猜了 4 次\n"
     ]
    }
   ],
   "source": [
    "import random\n",
    "\n",
    "play = 0\n",
    "\n",
    "print(\"==========猜數字遊戲===========\\n\")\n",
    "\n",
    "while True:\n",
    "    min = 1\n",
    "    max = 3\n",
    "    count = 0\n",
    "    guess_value = random.randint(min, max)  # 隨機產生一個數字\n",
    "\n",
    "    while True:\n",
    "        try:\n",
    "            keyin = int(input(f\"猜數字範圍 {min}~{max}: \"))\n",
    "        except ValueError:\n",
    "            print(\"請輸入整數數字！\")\n",
    "            continue\n",
    "\n",
    "        if keyin < min or keyin > max:\n",
    "            print(\"請輸入提示範圍內的數字\")\n",
    "            continue\n",
    "\n",
    "        count += 1\n",
    "\n",
    "        if keyin == guess_value:\n",
    "            print(f\"賓果! 猜對了，答案是: {guess_value}\")\n",
    "            print(f\"您猜了 {count} 次\")\n",
    "            play += 1\n",
    "\n",
    "            again = input(\"是否繼續遊戲？(y/n): \").lower()\n",
    "            if again == 'y':\n",
    "                print(\"\\n🎮 重新開始遊戲\\n\")\n",
    "                break  # 跳出內層迴圈，重新開始新一輪\n",
    "            else:\n",
    "                print(f\"您總共玩了 {play} 次\")\n",
    "                print(\"遊戲結束\")\n",
    "                exit()\n",
    "\n",
    "        elif keyin > guess_value:\n",
    "            print(\"再小一點！\")\n",
    "            max = keyin - 1\n",
    "        else:\n",
    "            print(\"再大一點！\")\n",
    "            min = keyin + 1\n",
    "\n",
    "        print(f\"您已經猜 {count} 次\")\n"
   ]
  }
 ],
 "metadata": {
  "kernelspec": {
   "display_name": "base",
   "language": "python",
   "name": "python3"
  },
  "language_info": {
   "codemirror_mode": {
    "name": "ipython",
    "version": 3
   },
   "file_extension": ".py",
   "mimetype": "text/x-python",
   "name": "python",
   "nbconvert_exporter": "python",
   "pygments_lexer": "ipython3",
   "version": "3.13.2"
  }
 },
 "nbformat": 4,
 "nbformat_minor": 5
}
