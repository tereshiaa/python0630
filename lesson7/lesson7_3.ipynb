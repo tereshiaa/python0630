{
 "cells": [
  {
   "cell_type": "code",
   "execution_count": 31,
   "id": "20259c96",
   "metadata": {},
   "outputs": [
    {
     "name": "stdout",
     "output_type": "stream",
     "text": [
      "歡迎來到猜數字遊戲 1！\n",
      "我已經選好了一個 1 到 10 之間的數字，快來猜猜看吧！\n",
      "請輸入在 1 到 10 之間的數字！\n",
      "輸入無效！請輸入一個有效的整數。\n",
      "小一點！\n",
      "輸入無效！請輸入一個有效的整數。\n",
      "大一點！\n",
      "恭喜你！猜對了，數字是 4。\n",
      "你猜了 6 次！\n",
      "\n",
      "重新開始遊戲！\n",
      "歡迎來到猜數字遊戲 2！\n",
      "我已經選好了一個 1 到 10 之間的數字，快來猜猜看吧！\n",
      "恭喜你！猜對了，數字是 5。\n",
      "你猜了 1 次！\n",
      "\n",
      "重新開始遊戲！\n",
      "歡迎來到猜數字遊戲 3！\n",
      "我已經選好了一個 1 到 10 之間的數字，快來猜猜看吧！\n",
      "小一點！\n",
      "請輸入在 1 到 6 之間的數字！\n",
      "小一點！\n",
      "恭喜你！猜對了，數字是 2。\n",
      "你猜了 4 次！\n",
      "\n",
      "感謝遊玩！總共玩了 3 次。\n"
     ]
    }
   ],
   "source": [
    "import random\n",
    "\n",
    "total_attempts = 0  # 記錄總共猜了多少次\n",
    "while True:    \n",
    "    attempts = 0  # 每一局的猜測次數\n",
    "    max = 10\n",
    "    min = 1   \n",
    "    number_to_guess = random.randint(min, max) # 隨機生成一個 min 到 max 之間的數字\n",
    "    print(f\"歡迎來到猜數字遊戲 {total_attempts+1}！\")\n",
    "    print(f\"我已經選好了一個 {min} 到 {max} 之間的數字，快來猜猜看吧！\")\n",
    "    \n",
    "    while True:\n",
    "        try:           \n",
    "            guess = int(input(f\"請輸入你的猜測{min}到{max}之間的數字：\"))\n",
    "            attempts += 1\n",
    "            if guess < min or guess > max:\n",
    "                print(f\"請輸入在 {min} 到 {max} 之間的數字！\")\n",
    "                continue\n",
    "            elif    guess == number_to_guess:\n",
    "                    print(f\"恭喜你！猜對了，數字是 {number_to_guess}。\")                   \n",
    "                    print(f\"你猜了 {attempts} 次！\\n\")\n",
    "                    total_attempts += 1\n",
    "                    break  \n",
    "            elif    guess < number_to_guess:\n",
    "                    print(\"大一點！\")\n",
    "                    min = guess + 1\n",
    "            elif    guess > number_to_guess:\n",
    "                    print(\"小一點！\")\n",
    "                    max = guess - 1       \n",
    "        except ValueError:\n",
    "            # 如果輸入無法轉換為整數，提示錯誤並讓用戶繼續遊戲\n",
    "            print(\"輸入無效！請輸入一個有效的整數。\")\n",
    "            attempts += 1\n",
    "    \n",
    "    play_again = input(\"要繼續遊戲嗎？按 Y 繼續，按 N 離開：\")\n",
    "    if play_again == 'n':\n",
    "        print(f\"感謝遊玩！總共玩了 {total_attempts} 次。\")\n",
    "        break  \n",
    "    else:\n",
    "        print(\"重新開始遊戲！\")\n"
   ]
  }
 ],
 "metadata": {
  "kernelspec": {
   "display_name": "base",
   "language": "python",
   "name": "python3"
  },
  "language_info": {
   "codemirror_mode": {
    "name": "ipython",
    "version": 3
   },
   "file_extension": ".py",
   "mimetype": "text/x-python",
   "name": "python",
   "nbconvert_exporter": "python",
   "pygments_lexer": "ipython3",
   "version": "3.13.2"
  }
 },
 "nbformat": 4,
 "nbformat_minor": 5
}
