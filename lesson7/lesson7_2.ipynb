{
 "cells": [
  {
   "cell_type": "code",
   "execution_count": 2,
   "id": "38e575c4",
   "metadata": {},
   "outputs": [
    {
     "name": "stdout",
     "output_type": "stream",
     "text": [
      "Sssss\n",
      "Ssss\n",
      "程式結束\n"
     ]
    }
   ],
   "source": [
    "#使用時機,不明確知道要執行幾次迴圈\n",
    "#配合條件式if,並使用break停止迴圈\n",
    "\n",
    "while(True):\n",
    "    stuff = input(\"請輸入小寫英文字,會自動轉成大寫[按下q會離開]:\")\n",
    "    if stuff == 'q' or stuff == 'Q':\n",
    "        break\n",
    "    print(stuff.capitalize())\n",
    "print(\"程式結束\")"
   ]
  },
  {
   "cell_type": "code",
   "execution_count": null,
   "id": "e49cf297",
   "metadata": {},
   "outputs": [
    {
     "name": "stdout",
     "output_type": "stream",
     "text": [
      "輸入的次數是3,所有輸入的正偶數的加總是:6\n"
     ]
    }
   ],
   "source": [
    "#break, contiune\n",
    "#請設計一個程式，讓使用者輸入數值，只有加總正偶數值，不加總正奇數值，如果輸入負數，結束程式。\n",
    "num = 0\n",
    "sum = 0\n",
    "while(True):    \n",
    "    input_value = int(input(f\"請輸入第{num+1}個數值:\"))\n",
    "    if input_value < 0:\n",
    "        break\n",
    "    num += 1\n",
    "    if input_value % 2 == 1:\n",
    "        continue\n",
    "    sum += input_value\n",
    "\n",
    "print(f\"輸入的次數是{num},所有輸入的正偶數的加總是:{sum}\")"
   ]
  },
  {
   "cell_type": "code",
   "execution_count": 1,
   "id": "5732feed",
   "metadata": {},
   "outputs": [
    {
     "data": {
      "text/plain": [
       "3.141592653589793"
      ]
     },
     "execution_count": 1,
     "metadata": {},
     "output_type": "execute_result"
    }
   ],
   "source": [
    "import math\n",
    "\n",
    "math.pi"
   ]
  },
  {
   "cell_type": "code",
   "execution_count": 2,
   "id": "b695b0d9",
   "metadata": {},
   "outputs": [
    {
     "data": {
      "text/plain": [
       "54"
      ]
     },
     "execution_count": 2,
     "metadata": {},
     "output_type": "execute_result"
    }
   ],
   "source": [
    "import random\n",
    "\n",
    "guess_value = random.randint(1,100)\n",
    "guess_value"
   ]
  }
 ],
 "metadata": {
  "kernelspec": {
   "display_name": "base",
   "language": "python",
   "name": "python3"
  },
  "language_info": {
   "codemirror_mode": {
    "name": "ipython",
    "version": 3
   },
   "file_extension": ".py",
   "mimetype": "text/x-python",
   "name": "python",
   "nbconvert_exporter": "python",
   "pygments_lexer": "ipython3",
   "version": "3.13.2"
  }
 },
 "nbformat": 4,
 "nbformat_minor": 5
}
