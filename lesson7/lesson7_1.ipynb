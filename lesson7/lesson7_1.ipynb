{
 "cells": [
  {
   "cell_type": "code",
   "execution_count": 1,
   "id": "8fce32cc",
   "metadata": {},
   "outputs": [
    {
     "name": "stdout",
     "output_type": "stream",
     "text": [
      "您的身高為: 150.0 cm\n",
      "您的體重為: 30.0 kg\n",
      "您的bmi是: 13.3\n",
      "BMI狀態為: 體重過輕\n",
      "計算完成\n"
     ]
    }
   ],
   "source": [
    "try:\n",
    "    height = float(input(\"請輸入身高(120-250cm):\"))\n",
    "    if not(120 <= height <= 250):\n",
    "        raise Exception(\"輸入的身高不在範圍內\")\n",
    "    \n",
    "    weight = float(input(\"請輸入體重(30-200kg):\"))\n",
    "    if not(30 <= weight <= 200):\n",
    "        raise Exception(\"輸入的體重不在範圍內\")\n",
    "\n",
    "    print(\"您的身高為:\",height,\"cm\")\n",
    "    print(\"您的體重為:\",weight,\"kg\")\n",
    "        \n",
    "except ValueError as e:\n",
    "    print(\"格式錯誤\",e)\n",
    "except Exception as e:\n",
    "    print(e)\n",
    "else:\n",
    "    bmi = weight / (height / 100) ** 2\n",
    "    print(\"您的bmi是:\",round(bmi,ndigits = 1))\n",
    "\n",
    "    if bmi < 18.5:\n",
    "        bmi_value = '體重過輕'\n",
    "    elif bmi < 24:\n",
    "        bmi_value = '正常範圍'\n",
    "    elif bmi < 27:\n",
    "        bmi_value = '過重'\n",
    "    elif bmi < 30:\n",
    "        bmi_value = '輕度肥胖'\n",
    "    elif bmi < 35:\n",
    "        bmi_value = '中度肥胖'\n",
    "    else:\n",
    "        bmi_value = '重度肥胖'\n",
    "    print(\"BMI狀態為:\",bmi_value)\n",
    "finally:\n",
    "    print(\"計算完成\")"
   ]
  },
  {
   "cell_type": "code",
   "execution_count": null,
   "id": "f87e471a",
   "metadata": {},
   "outputs": [],
   "source": [
    "try:\n",
    "    height = float(input('請輸入身高120-250cm):'))\n",
    "    if not (120 <= height <= 250):\n",
    "        print('身高範圍輸入錯誤')\n",
    "    weight = float(input('請輸入體重30-200kg):'))\n",
    "    if not (30 <= weight <=200):\n",
    "         print('體重範圍輸入錯誤')\n",
    "    BMI = weight / ((height  / 100) **2)\n",
    "    if 120 <= height <= 250 :\n",
    "        if 30 <= weight <= 200:\n",
    "            print('你的BMI為:',round(BMI,1))\n",
    "        if BMI < 18.5:\n",
    "            x = '體重過輕'\n",
    "        elif 18.5 <= BMI < 24:\n",
    "            x = '正常範圍'\n",
    "        elif 24 <= BMI < 27:\n",
    "            x = '體重過重'\n",
    "        elif 27 <= BMI < 30:\n",
    "            x = '輕度肥胖'\n",
    "        elif 30 <= BMI < 35:\n",
    "            x = '中度肥胖'\n",
    "        elif BMI >= 35:\n",
    "            x = '重度肥胖'\n",
    "        print('您的BMI為',x)\n",
    "except:\n",
    "    print('輸入格式錯誤')\n",
    "finally:\n",
    "    print('應用程式結束')"
   ]
  },
  {
   "cell_type": "code",
   "execution_count": null,
   "id": "72c03749",
   "metadata": {},
   "outputs": [],
   "source": [
    "value = int(input(\"請輸入一整數：\"))\n",
    "print(f\"{value} 的因數：\",end='')\n",
    "\n",
    "factor = 1\n",
    "while (factor <= value):\n",
    "    if value % factor == 0:\n",
    "        print(factor,end=' ')\n",
    "    factor += 1"
   ]
  },
  {
   "cell_type": "code",
   "execution_count": null,
   "id": "3662a387",
   "metadata": {},
   "outputs": [],
   "source": [
    "value1 = int(input(\"請輸入第一個整數：\"))\n",
    "value2 = int(input(\"請輸入第二個整數：\"))\n",
    "print(f\"{value1} 及 {value2} 的公因數：\")\n",
    "\n",
    "factor = 1\n",
    "while (factor <= value1 and factor <= value2):\n",
    "    if value1 % factor == 0 and value2 % factor == 0:\n",
    "        print(factor)\n",
    "    factor += 1"
   ]
  }
 ],
 "metadata": {
  "kernelspec": {
   "display_name": "base",
   "language": "python",
   "name": "python3"
  },
  "language_info": {
   "codemirror_mode": {
    "name": "ipython",
    "version": 3
   },
   "file_extension": ".py",
   "mimetype": "text/x-python",
   "name": "python",
   "nbconvert_exporter": "python",
   "pygments_lexer": "ipython3",
   "version": "3.13.2"
  }
 },
 "nbformat": 4,
 "nbformat_minor": 5
}
