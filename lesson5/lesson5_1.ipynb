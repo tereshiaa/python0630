{
 "cells": [
  {
   "cell_type": "code",
   "execution_count": null,
   "id": "3d14a07d",
   "metadata": {},
   "outputs": [],
   "source": [
    "#學生總分為300\n",
    "#有些學生可以加分5%\n",
    "\n",
    "scores = int(input(\"請輸入學生分數(最高300):\"))\n",
    "is_add = input(\"學生是否符合加分條件?(y,n)\")\n",
    "\n",
    "if is_add == \"y\": #單項選擇\n",
    "    scores *= 1.05\n",
    "\n",
    "print(\"學生總分是:\", round(scores))"
   ]
  },
  {
   "cell_type": "code",
   "execution_count": null,
   "id": "de69ae8b",
   "metadata": {},
   "outputs": [],
   "source": [
    "#學生總分為300\n",
    "#有些學生可以加分5%\n",
    "\n",
    "scores = int(input(\"請輸入學生分數(最高300):\"))\n",
    "is_add = input(\"學生是否符合加分條件?(y,n)\")\n",
    "\n",
    "#巢狀選擇\n",
    "if is_add == \"y\": \n",
    "    scores *= 1.05\n",
    "    if scores > 300:\n",
    "        scores = 300\n",
    "\n",
    "print(\"學生總分是:\", round(scores))"
   ]
  },
  {
   "cell_type": "code",
   "execution_count": 1,
   "id": "ac4cdeae",
   "metadata": {},
   "outputs": [
    {
     "name": "stdout",
     "output_type": "stream",
     "text": [
      "總分不得超過300分\n",
      "應用程式結束\n"
     ]
    }
   ],
   "source": [
    "#學生總分為300\n",
    "#有些學生可以加分5%\n",
    "\n",
    "scores = int(input(\"請輸入學生分數(最高300):\"))\n",
    "if scores <= 300:\n",
    "    is_add = input(\"學生是否符合加分條件?(y,n)\")\n",
    "\n",
    "    if is_add == \"y\": #單項選擇\n",
    "        scores *= 1.05\n",
    "        if scores > 300:\n",
    "            scores = 300\n",
    "\n",
    "    print(\"學生總分是:\", round(scores))\n",
    "else:\n",
    "    print(\"總分不得超過300分\")\n",
    "\n",
    "print(\"應用程式結束\")"
   ]
  },
  {
   "cell_type": "code",
   "execution_count": 4,
   "id": "71ddd39b",
   "metadata": {},
   "outputs": [
    {
     "name": "stdout",
     "output_type": "stream",
     "text": [
      "格式錯誤 invalid literal for int() with base 10: '1q'\n",
      "應用程式結束\n"
     ]
    }
   ],
   "source": [
    "try:\n",
    "    money = int(input(\"請輸入金額:\"))\n",
    "except IndexError as e:\n",
    "    print(\"索引錯誤\",e)\n",
    "except ValueError as e:\n",
    "    print(\"格式錯誤\", e)\n",
    "except:\n",
    "    print(\"不知名的錯誤\")\n",
    "\n",
    "print(\"應用程式結束\")"
   ]
  },
  {
   "cell_type": "code",
   "execution_count": 5,
   "id": "570d2f03",
   "metadata": {},
   "outputs": [
    {
     "name": "stdout",
     "output_type": "stream",
     "text": [
      "格式錯誤 invalid literal for int() with base 10: 'aaaaaaa'\n",
      "結束internet連線\n",
      "應用程式結束\n"
     ]
    }
   ],
   "source": [
    "try:\n",
    "    money = int(input(\"請輸入金額:\"))\n",
    "except IndexError as e:\n",
    "    print(\"索引錯誤\",e)\n",
    "except ValueError as error:\n",
    "    print(\"格式錯誤\", error)\n",
    "except:\n",
    "    print(\"不知名的錯誤\")\n",
    "else:\n",
    "    print(\"沒有出現錯誤\")\n",
    "finally:\n",
    "    print(\"結束internet連線\")\n",
    "\n",
    "print(\"應用程式結束\")"
   ]
  }
 ],
 "metadata": {
  "kernelspec": {
   "display_name": "base",
   "language": "python",
   "name": "python3"
  },
  "language_info": {
   "codemirror_mode": {
    "name": "ipython",
    "version": 3
   },
   "file_extension": ".py",
   "mimetype": "text/x-python",
   "name": "python",
   "nbconvert_exporter": "python",
   "pygments_lexer": "ipython3",
   "version": "3.13.2"
  }
 },
 "nbformat": 4,
 "nbformat_minor": 5
}
