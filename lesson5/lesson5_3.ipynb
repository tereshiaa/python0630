{
 "cells": [
  {
   "cell_type": "code",
   "execution_count": null,
   "id": "f7312620",
   "metadata": {},
   "outputs": [],
   "source": [
    "scores = 50\n",
    "\n",
    "if scores >= 60:\n",
    "    print(\"大於等於60\")\n",
    "else:\n",
    "    print(\"小於60\")"
   ]
  },
  {
   "cell_type": "code",
   "execution_count": null,
   "id": "28d90f0a",
   "metadata": {},
   "outputs": [],
   "source": [
    "# 60 <= scores <= 80\n",
    "# 2個條件,巢狀判斷\n",
    "\n",
    "scores = 85\n",
    "\n",
    "if scores >= 60:\n",
    "    if scores <= 80:\n",
    "        print(\"60 <= scores <= 80\")\n",
    "    else:\n",
    "        print(\"score > 80\")\n",
    "else:\n",
    "    print(\"scores < 60\")"
   ]
  },
  {
   "cell_type": "code",
   "execution_count": 1,
   "id": "1a37c3b0",
   "metadata": {},
   "outputs": [
    {
     "name": "stdout",
     "output_type": "stream",
     "text": [
      "60 <= scores <= 80\n"
     ]
    }
   ],
   "source": [
    "# 60 <= scores <= 80\n",
    "# 2個條件,邏輯運算子(and)\n",
    "scores = 75\n",
    "if scores >= 60 and scores <=80:\n",
    "    print(\"60 <= scores <= 80\")\n",
    "else:\n",
    "    print(\"scores可能大於80或小於60\")"
   ]
  },
  {
   "cell_type": "code",
   "execution_count": 3,
   "id": "5b8730d0",
   "metadata": {},
   "outputs": [
    {
     "name": "stdout",
     "output_type": "stream",
     "text": [
      "60 <= scores <= 80\n"
     ]
    }
   ],
   "source": [
    "# 60 <= scores <= 80\n",
    "# 2個條件,邏輯運算子(or)\n",
    "scores = 75\n",
    "if scores < 60 or scores > 80:\n",
    "    print(\"scores可能大於80或小於60\")    \n",
    "else:\n",
    "    print(\"60 <= scores <= 80\")\n",
    "    "
   ]
  },
  {
   "cell_type": "code",
   "execution_count": null,
   "id": "d98faec1",
   "metadata": {},
   "outputs": [
    {
     "name": "stdout",
     "output_type": "stream",
     "text": [
      "學生總分是: 300\n",
      "應用程式結束\n"
     ]
    }
   ],
   "source": [
    "try:\n",
    "    scores = int(input(\"請輸入學生分數(最高300):\"))\n",
    "    if scores <= 300:\n",
    "        is_add = input(\"學生是否符合加分條件?(y,n)\")\n",
    "\n",
    "        if is_add == \"y\": #單項選擇\n",
    "            scores *= 1.05\n",
    "            if scores > 300:\n",
    "                scores = 300\n",
    "\n",
    "        print(\"學生總分是:\", round(scores))\n",
    "    else:\n",
    "        raise Exception(\"學生分數不可以超出300分\") \n",
    "    \n",
    "except ValueError as e:\n",
    "    print(\"格式錯誤\",e)\n",
    "except Exception as e:\n",
    "    print(e)\n",
    "    \n",
    "print(\"應用程式結束\")"
   ]
  },
  {
   "cell_type": "code",
   "execution_count": 20,
   "id": "a4659a0f",
   "metadata": {},
   "outputs": [
    {
     "name": "stdout",
     "output_type": "stream",
     "text": [
      "您的BMI為: 21.64\n"
     ]
    }
   ],
   "source": [
    "try:\n",
    "    h= int(input(\"請輸入身高(120-250,cm):\"))\n",
    "    if h < 120 or h > 250:\n",
    "        print(\"請輸入身高(120-250,cm):\")\n",
    "    else:\n",
    "        w = int(input(\"請輸入體重(30-200,kg):\"))\n",
    "        if w < 30 or w > 200:\n",
    "            print(\"請輸入體重(30-200,kg):\")\n",
    "        else:\n",
    "            bmi = w / ((h/ 100) ** 2)\n",
    "            print(\"您的BMI為:\", round(bmi, 2))\n",
    "except ValueError as e:\n",
    "    print(\"格式錯誤\", e)\n",
    "except Exception as e:\n",
    "    print(e)"
   ]
  },
  {
   "cell_type": "code",
   "execution_count": null,
   "id": "54d5e292",
   "metadata": {},
   "outputs": [],
   "source": []
  }
 ],
 "metadata": {
  "kernelspec": {
   "display_name": "base",
   "language": "python",
   "name": "python3"
  },
  "language_info": {
   "codemirror_mode": {
    "name": "ipython",
    "version": 3
   },
   "file_extension": ".py",
   "mimetype": "text/x-python",
   "name": "python",
   "nbconvert_exporter": "python",
   "pygments_lexer": "ipython3",
   "version": "3.13.2"
  }
 },
 "nbformat": 4,
 "nbformat_minor": 5
}
