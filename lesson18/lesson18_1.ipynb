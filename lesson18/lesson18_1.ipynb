{
 "cells": [
  {
   "cell_type": "markdown",
   "id": "439e4479",
   "metadata": {},
   "source": [
    "-某財務軟體公司在全國有許多代理商，為研究它的財務軟體產品的廣告投入與銷售額的關係，\n",
    "-統計人員隨機選擇10家代理商進行觀察，搜集到年廣告投入費和月平均銷售額的數據，\n",
    "-並編製成相關表\n",
    "-相關係數"
   ]
  },
  {
   "cell_type": "code",
   "execution_count": 1,
   "id": "1d182ea6",
   "metadata": {},
   "outputs": [
    {
     "data": {
      "text/html": [
       "<div>\n",
       "<style scoped>\n",
       "    .dataframe tbody tr th:only-of-type {\n",
       "        vertical-align: middle;\n",
       "    }\n",
       "\n",
       "    .dataframe tbody tr th {\n",
       "        vertical-align: top;\n",
       "    }\n",
       "\n",
       "    .dataframe thead th {\n",
       "        text-align: right;\n",
       "    }\n",
       "</style>\n",
       "<table border=\"1\" class=\"dataframe\">\n",
       "  <thead>\n",
       "    <tr style=\"text-align: right;\">\n",
       "      <th></th>\n",
       "      <th>年廣告費投入</th>\n",
       "      <th>月均銷售額</th>\n",
       "    </tr>\n",
       "  </thead>\n",
       "  <tbody>\n",
       "    <tr>\n",
       "      <th>2011</th>\n",
       "      <td>12.5</td>\n",
       "      <td>21.2</td>\n",
       "    </tr>\n",
       "    <tr>\n",
       "      <th>2012</th>\n",
       "      <td>15.3</td>\n",
       "      <td>23.9</td>\n",
       "    </tr>\n",
       "    <tr>\n",
       "      <th>2013</th>\n",
       "      <td>23.2</td>\n",
       "      <td>32.9</td>\n",
       "    </tr>\n",
       "    <tr>\n",
       "      <th>2014</th>\n",
       "      <td>26.4</td>\n",
       "      <td>34.1</td>\n",
       "    </tr>\n",
       "    <tr>\n",
       "      <th>2015</th>\n",
       "      <td>33.5</td>\n",
       "      <td>42.5</td>\n",
       "    </tr>\n",
       "    <tr>\n",
       "      <th>2016</th>\n",
       "      <td>34.4</td>\n",
       "      <td>43.2</td>\n",
       "    </tr>\n",
       "    <tr>\n",
       "      <th>2017</th>\n",
       "      <td>39.4</td>\n",
       "      <td>49.0</td>\n",
       "    </tr>\n",
       "    <tr>\n",
       "      <th>2018</th>\n",
       "      <td>45.2</td>\n",
       "      <td>52.8</td>\n",
       "    </tr>\n",
       "    <tr>\n",
       "      <th>2019</th>\n",
       "      <td>55.4</td>\n",
       "      <td>59.4</td>\n",
       "    </tr>\n",
       "    <tr>\n",
       "      <th>2020</th>\n",
       "      <td>60.9</td>\n",
       "      <td>63.5</td>\n",
       "    </tr>\n",
       "  </tbody>\n",
       "</table>\n",
       "</div>"
      ],
      "text/plain": [
       "      年廣告費投入  月均銷售額\n",
       "2011    12.5   21.2\n",
       "2012    15.3   23.9\n",
       "2013    23.2   32.9\n",
       "2014    26.4   34.1\n",
       "2015    33.5   42.5\n",
       "2016    34.4   43.2\n",
       "2017    39.4   49.0\n",
       "2018    45.2   52.8\n",
       "2019    55.4   59.4\n",
       "2020    60.9   63.5"
      ]
     },
     "execution_count": 1,
     "metadata": {},
     "output_type": "execute_result"
    }
   ],
   "source": [
    "import numpy as np\n",
    "import pandas as pd\n",
    "\n",
    "data = {'年廣告費投入':[12.5, 15.3, 23.2, 26.4, 33.5, 34.4, 39.4, 45.2, 55.4, 60.9],\n",
    "            '月均銷售額':[21.2, 23.9, 32.9, 34.1, 42.5, 43.2, 49.0, 52.8, 59.4, 63.5]}\n",
    "\n",
    "dataframe = pd.DataFrame(data, index=[2011, 2012, 2013, 2014, 2015, 2016, 2017, 2018, 2019, 2020])\n",
    "dataframe"
   ]
  },
  {
   "cell_type": "code",
   "execution_count": 3,
   "id": "62c2ee5f",
   "metadata": {},
   "outputs": [
    {
     "data": {
      "text/plain": [
       "np.float64(0.9941983762371884)"
      ]
     },
     "execution_count": 3,
     "metadata": {},
     "output_type": "execute_result"
    }
   ],
   "source": [
    "#求相關係數(correlation)\n",
    "corr = dataframe['年廣告費投入'].corr(dataframe['月均銷售額'])\n",
    "corr"
   ]
  },
  {
   "cell_type": "code",
   "execution_count": 4,
   "id": "7cfc254e",
   "metadata": {},
   "outputs": [
    {
     "name": "stdout",
     "output_type": "stream",
     "text": [
      "Help on function corr in module pandas.core.series:\n",
      "\n",
      "corr(self, other: 'Series', method: 'CorrelationMethod' = 'pearson', min_periods: 'int | None' = None) -> 'float'\n",
      "    Compute correlation with `other` Series, excluding missing values.\n",
      "\n",
      "    The two `Series` objects are not required to be the same length and will be\n",
      "    aligned internally before the correlation function is applied.\n",
      "\n",
      "    Parameters\n",
      "    ----------\n",
      "    other : Series\n",
      "        Series with which to compute the correlation.\n",
      "    method : {'pearson', 'kendall', 'spearman'} or callable\n",
      "        Method used to compute correlation:\n",
      "\n",
      "        - pearson : Standard correlation coefficient\n",
      "        - kendall : Kendall Tau correlation coefficient\n",
      "        - spearman : Spearman rank correlation\n",
      "        - callable: Callable with input two 1d ndarrays and returning a float.\n",
      "\n",
      "        .. warning::\n",
      "            Note that the returned matrix from corr will have 1 along the\n",
      "            diagonals and will be symmetric regardless of the callable's\n",
      "            behavior.\n",
      "    min_periods : int, optional\n",
      "        Minimum number of observations needed to have a valid result.\n",
      "\n",
      "    Returns\n",
      "    -------\n",
      "    float\n",
      "        Correlation with other.\n",
      "\n",
      "    See Also\n",
      "    --------\n",
      "    DataFrame.corr : Compute pairwise correlation between columns.\n",
      "    DataFrame.corrwith : Compute pairwise correlation with another\n",
      "        DataFrame or Series.\n",
      "\n",
      "    Notes\n",
      "    -----\n",
      "    Pearson, Kendall and Spearman correlation are currently computed using pairwise complete observations.\n",
      "\n",
      "    * `Pearson correlation coefficient <https://en.wikipedia.org/wiki/Pearson_correlation_coefficient>`_\n",
      "    * `Kendall rank correlation coefficient <https://en.wikipedia.org/wiki/Kendall_rank_correlation_coefficient>`_\n",
      "    * `Spearman's rank correlation coefficient <https://en.wikipedia.org/wiki/Spearman%27s_rank_correlation_coefficient>`_\n",
      "\n",
      "    Automatic data alignment: as with all pandas operations, automatic data alignment is performed for this method.\n",
      "    ``corr()`` automatically considers values with matching indices.\n",
      "\n",
      "    Examples\n",
      "    --------\n",
      "    >>> def histogram_intersection(a, b):\n",
      "    ...     v = np.minimum(a, b).sum().round(decimals=1)\n",
      "    ...     return v\n",
      "    >>> s1 = pd.Series([.2, .0, .6, .2])\n",
      "    >>> s2 = pd.Series([.3, .6, .0, .1])\n",
      "    >>> s1.corr(s2, method=histogram_intersection)\n",
      "    0.3\n",
      "\n",
      "    Pandas auto-aligns the values with matching indices\n",
      "\n",
      "    >>> s1 = pd.Series([1, 2, 3], index=[0, 1, 2])\n",
      "    >>> s2 = pd.Series([1, 2, 3], index=[2, 1, 0])\n",
      "    >>> s1.corr(s2)\n",
      "    -1.0\n",
      "\n"
     ]
    }
   ],
   "source": [
    "help(pd.Series.corr)"
   ]
  }
 ],
 "metadata": {
  "kernelspec": {
   "display_name": "a0804",
   "language": "python",
   "name": "python3"
  },
  "language_info": {
   "codemirror_mode": {
    "name": "ipython",
    "version": 3
   },
   "file_extension": ".py",
   "mimetype": "text/x-python",
   "name": "python",
   "nbconvert_exporter": "python",
   "pygments_lexer": "ipython3",
   "version": "3.12.11"
  }
 },
 "nbformat": 4,
 "nbformat_minor": 5
}
