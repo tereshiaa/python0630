{
 "cells": [
  {
   "cell_type": "code",
   "execution_count": null,
   "id": "0e4011c3",
   "metadata": {},
   "outputs": [
    {
     "name": "stdout",
     "output_type": "stream",
     "text": [
      "[['林康亮', 78, 82, 88], ['劉慧君', 78, 77, 92], ['林淑安', 62, 85, 80]]\n"
     ]
    }
   ],
   "source": [
    "#有一個names.txt\n",
    "#讀取names.txt\n",
    "#請隨機取出3個名字\n",
    "#建立2維的list,結構如下\n",
    "#每個姓名有3個分數,分數是(50~100)的隨機數\n",
    "#輸出結果：[['陳怡伶',67,92,97],['馮芳如',98,86,75],['蒙淑惠',76,65,59]]\n",
    "\n",
    "import random #隨機數模組\n",
    "with open(\"names.txt\", encoding=\"utf-8\") as file: \n",
    "    content: str = file.read() #讀取檔案內容 將內容按行分割成列表\n",
    "    names: list = content.split(\"\\n\") #將每行作為一個名字存入列表\n",
    "    names = random.sample(names, 3)  # 隨機取出3個名字\n",
    "    scores: list = [[random.randint(50, 100) for _ in range(3)] for _ in names]\n",
    "    names = [[name] + score for name, score in zip(names, scores)]  # 合併姓名和分數\n",
    "    print(names)"
   ]
  },
  {
   "cell_type": "code",
   "execution_count": 3,
   "id": "62e05e97",
   "metadata": {},
   "outputs": [
    {
     "name": "stdout",
     "output_type": "stream",
     "text": [
      "[['鄭琇亞', 65, 79, 54], ['劉旭士', 97, 68, 55], ['蘇婷婷', 98, 74, 65]]\n"
     ]
    }
   ],
   "source": [
    "#有一個names.txt\n",
    "#讀取names.txt\n",
    "#請隨機取出3個名字\n",
    "import random\n",
    "\n",
    "def sample_names_from_file(file_name: str, nums: int = 1) -> list[str]:\n",
    "    \"\"\"\n",
    "    從指定的檔案中讀取所有姓名，並隨機取出指定數量的姓名。\n",
    "\n",
    "    參數:\n",
    "        file_name (str): 檔案名稱，檔案內容為姓名，每行一個。\n",
    "        nums (int): 要隨機取出的姓名數量，預設為1。\n",
    "\n",
    "    回傳:\n",
    "        list[str]: 隨機取出的姓名列表。\n",
    "    \"\"\"\n",
    "    with open(file_name, encoding=\"utf-8\") as file:\n",
    "        content: str = file.read()\n",
    "        names: list[str] = content.split()\n",
    "        return random.sample(names, nums)\n",
    "\n",
    "#建立一個自訂function,這個參數會傳入一個name\n",
    "#建立2維的list,結構如下\n",
    "#每個姓名有3個分數,分數是(50~100)的隨機數\n",
    "#輸出結果：[['陳怡伶',67,92,97],['馮芳如',98,86,75],['蒙淑惠',76,65,59]]\n",
    "\n",
    "def generate_scores_for_names(names: list[str]) -> list[list]:\n",
    "    \"\"\"\n",
    "    為每個姓名生成3個隨機分數。\n",
    "\n",
    "    參數:\n",
    "        names (list[str]): 姓名列表。\n",
    "\n",
    "    回傳:\n",
    "        list[list]: 包含姓名和3個隨機分數的2維列表。\n",
    "    \"\"\"\n",
    "    result_list = []\n",
    "    for person_name in names:\n",
    "        person_scores = [person_name] + [random.randint(50, 100) for _ in range(3)]\n",
    "        result_list.append(person_scores)\n",
    "\n",
    "    return result_list\n",
    "\n",
    "\n",
    "def main():\n",
    "    names: list[str] = sample_names_from_file(\"names.txt\", nums=3)\n",
    "    scores: list[list] = generate_scores_for_names(names)\n",
    "    print(scores)\n",
    "\n",
    "if __name__ == \"__main__\":\n",
    "    main()"
   ]
  },
  {
   "cell_type": "code",
   "execution_count": 4,
   "id": "9c6c90e3",
   "metadata": {},
   "outputs": [
    {
     "data": {
      "text/plain": [
       "'Taiwan'"
      ]
     },
     "execution_count": 4,
     "metadata": {},
     "output_type": "execute_result"
    }
   ],
   "source": [
    "#dict,一組有關聯的資料\n",
    "\n",
    "country_codes = {\n",
    "  \"tw\": \"Taiwan\",\n",
    "  \"jp\": \"Japan\",\n",
    "  \"us\": \"United States\"\n",
    "}\n",
    "country_codes[\"es\"] = \"Spain\"  # 新增一個國家\n",
    "country_codes[\"tw\"] "
   ]
  },
  {
   "cell_type": "code",
   "execution_count": 5,
   "id": "5d466ba7",
   "metadata": {},
   "outputs": [
    {
     "data": {
      "text/plain": [
       "{'tw': 'Taiwan', 'jp': 'Japan', 'us': 'United States', 'es': 'Spain'}"
      ]
     },
     "execution_count": 5,
     "metadata": {},
     "output_type": "execute_result"
    }
   ],
   "source": [
    "country_codes[\"jp\"]  # 取得日本的名稱\n",
    "country_codes"
   ]
  },
  {
   "cell_type": "code",
   "execution_count": 6,
   "id": "e7ce7761",
   "metadata": {},
   "outputs": [
    {
     "name": "stdout",
     "output_type": "stream",
     "text": [
      "tw:Taiwan\n",
      "jp:Japan\n",
      "us:United States\n",
      "es:Spain\n"
     ]
    }
   ],
   "source": [
    "#使用for..in mapping\n",
    "\n",
    "for key in country_codes:\n",
    "    print(f\"{key}:{country_codes[key]}\")"
   ]
  },
  {
   "cell_type": "code",
   "execution_count": 7,
   "id": "37a024a3",
   "metadata": {},
   "outputs": [
    {
     "data": {
      "text/plain": [
       "False"
      ]
     },
     "execution_count": 7,
     "metadata": {},
     "output_type": "execute_result"
    }
   ],
   "source": [
    "#使用 字串 in mapping\n",
    "#檢查dict有沒有這個key\n",
    "\n",
    "\"jp\" in country_codes\n",
    "\"hk\" in country_codes"
   ]
  },
  {
   "cell_type": "code",
   "execution_count": 8,
   "id": "061e8530",
   "metadata": {},
   "outputs": [
    {
     "name": "stdout",
     "output_type": "stream",
     "text": [
      "沒有這個key\n"
     ]
    }
   ],
   "source": [
    "if \"hk\" in country_codes:\n",
    "    print(country_codes[\"hk\"])\n",
    "else:\n",
    "    print(\"沒有這個key\")"
   ]
  },
  {
   "cell_type": "code",
   "execution_count": 9,
   "id": "e63aae70",
   "metadata": {},
   "outputs": [
    {
     "data": {
      "text/plain": [
       "'沒有這個key'"
      ]
     },
     "execution_count": 9,
     "metadata": {},
     "output_type": "execute_result"
    }
   ],
   "source": [
    "country_codes.get(\"hk\", \"沒有這個key\")"
   ]
  },
  {
   "cell_type": "code",
   "execution_count": 10,
   "id": "40b78c2c",
   "metadata": {},
   "outputs": [
    {
     "name": "stdout",
     "output_type": "stream",
     "text": [
      "tw\n",
      "jp\n",
      "us\n",
      "es\n"
     ]
    }
   ],
   "source": [
    "country_codes.keys() #like list\n",
    "for key in country_codes.keys():\n",
    "    print(key)"
   ]
  },
  {
   "cell_type": "code",
   "execution_count": 11,
   "id": "173a29be",
   "metadata": {},
   "outputs": [
    {
     "name": "stdout",
     "output_type": "stream",
     "text": [
      "Taiwan\n",
      "Japan\n",
      "United States\n",
      "Spain\n"
     ]
    }
   ],
   "source": [
    "for value in country_codes.values():\n",
    "    print(value)"
   ]
  },
  {
   "cell_type": "code",
   "execution_count": 12,
   "id": "d890d670",
   "metadata": {},
   "outputs": [
    {
     "name": "stdout",
     "output_type": "stream",
     "text": [
      "tw:Taiwan\n",
      "jp:Japan\n",
      "us:United States\n",
      "es:Spain\n"
     ]
    }
   ],
   "source": [
    "for key,value in country_codes.items():\n",
    "    print(f\"{key}:{value}\")"
   ]
  }
 ],
 "metadata": {
  "kernelspec": {
   "display_name": "base",
   "language": "python",
   "name": "python3"
  },
  "language_info": {
   "codemirror_mode": {
    "name": "ipython",
    "version": 3
   },
   "file_extension": ".py",
   "mimetype": "text/x-python",
   "name": "python",
   "nbconvert_exporter": "python",
   "pygments_lexer": "ipython3",
   "version": "3.13.2"
  }
 },
 "nbformat": 4,
 "nbformat_minor": 5
}
