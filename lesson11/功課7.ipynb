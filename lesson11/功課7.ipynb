{
 "cells": [
  {
   "cell_type": "code",
   "execution_count": 4,
   "id": "20b36b55",
   "metadata": {},
   "outputs": [
    {
     "name": "stdout",
     "output_type": "stream",
     "text": [
      "[{'國文': 64, '姓名': '賴苑禾', '數學': 50, '英文': 86},\n",
      " {'國文': 73, '姓名': '陳冠竹', '數學': 62, '英文': 78},\n",
      " {'國文': 78, '姓名': '翁均安', '數學': 72, '英文': 52}]\n"
     ]
    }
   ],
   "source": [
    "#有一個names.txt\n",
    "#讀取names.txt\n",
    "#請隨機取出3個名字\n",
    "import random\n",
    "from pprint import pprint\n",
    "\n",
    "\n",
    "#random.seed(4561)\n",
    "\n",
    "def sample_names_from_file(file_name: str, nums: int = 1) -> list[str]:\n",
    "    \"\"\"\n",
    "    從指定的檔案中讀取所有姓名，並隨機取出指定數量的姓名。\n",
    "\n",
    "    參數:\n",
    "        file_name (str): 檔案名稱，檔案內容為姓名，每行一個。\n",
    "        nums (int): 要隨機取出的姓名數量，預設為1。\n",
    "\n",
    "    回傳:\n",
    "        list[str]: 隨機取出的姓名列表。\n",
    "    \"\"\"\n",
    "\n",
    "\n",
    "    with open(file_name, encoding=\"utf-8\") as file:\n",
    "        content: str = file.read()\n",
    "        names: list[str] = content.split()\n",
    "        return random.sample(names, nums)\n",
    "\n",
    "def generate_scores_for_names(names: list[str]) -> list[dict]:\n",
    "    \"\"\"\n",
    "    為每個姓名生成3個隨機分數。\n",
    "\n",
    "    參數:\n",
    "        names (list[str]): 姓名列表。\n",
    "\n",
    "    回傳:\n",
    "        list[dict]: 包含姓名和3個隨機分數的2維列表。\n",
    "    \"\"\"\n",
    "    result_list = []\n",
    "    for person_name in names:\n",
    "        student_scores:dict = {\"姓名\":person_name}\n",
    "        for subject in [\"國文\", \"英文\", \"數學\"]:\n",
    "            student_scores[subject] = random.randint(50, 100) \n",
    "        result_list.append(student_scores)\n",
    "\n",
    "    return result_list\n",
    "\n",
    "def main():\n",
    "    names: list[str] = sample_names_from_file(\"names.txt\", nums=3)\n",
    "    students: list[dict] = generate_scores_for_names(names)\n",
    "    pprint(students)\n",
    "\n",
    "if __name__ == \"__main__\":\n",
    "    main()"
   ]
  }
 ],
 "metadata": {
  "kernelspec": {
   "display_name": "base",
   "language": "python",
   "name": "python3"
  },
  "language_info": {
   "codemirror_mode": {
    "name": "ipython",
    "version": 3
   },
   "file_extension": ".py",
   "mimetype": "text/x-python",
   "name": "python",
   "nbconvert_exporter": "python",
   "pygments_lexer": "ipython3",
   "version": "3.13.2"
  }
 },
 "nbformat": 4,
 "nbformat_minor": 5
}
