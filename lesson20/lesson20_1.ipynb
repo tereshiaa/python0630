{
 "cells": [
  {
   "cell_type": "code",
   "execution_count": 1,
   "id": "3890448c",
   "metadata": {},
   "outputs": [
    {
     "data": {
      "text/html": [
       "<div>\n",
       "<style scoped>\n",
       "    .dataframe tbody tr th:only-of-type {\n",
       "        vertical-align: middle;\n",
       "    }\n",
       "\n",
       "    .dataframe tbody tr th {\n",
       "        vertical-align: top;\n",
       "    }\n",
       "\n",
       "    .dataframe thead th {\n",
       "        text-align: right;\n",
       "    }\n",
       "</style>\n",
       "<table border=\"1\" class=\"dataframe\">\n",
       "  <thead>\n",
       "    <tr style=\"text-align: right;\">\n",
       "      <th></th>\n",
       "      <th>key1</th>\n",
       "      <th>key2</th>\n",
       "      <th>data1</th>\n",
       "      <th>data2</th>\n",
       "    </tr>\n",
       "  </thead>\n",
       "  <tbody>\n",
       "    <tr>\n",
       "      <th>0</th>\n",
       "      <td>a</td>\n",
       "      <td>one</td>\n",
       "      <td>-0.625614</td>\n",
       "      <td>-1.027170</td>\n",
       "    </tr>\n",
       "    <tr>\n",
       "      <th>1</th>\n",
       "      <td>a</td>\n",
       "      <td>two</td>\n",
       "      <td>-0.907969</td>\n",
       "      <td>-0.097489</td>\n",
       "    </tr>\n",
       "    <tr>\n",
       "      <th>2</th>\n",
       "      <td>b</td>\n",
       "      <td>one</td>\n",
       "      <td>-0.209190</td>\n",
       "      <td>1.014104</td>\n",
       "    </tr>\n",
       "    <tr>\n",
       "      <th>3</th>\n",
       "      <td>b</td>\n",
       "      <td>two</td>\n",
       "      <td>0.120974</td>\n",
       "      <td>1.096963</td>\n",
       "    </tr>\n",
       "    <tr>\n",
       "      <th>4</th>\n",
       "      <td>a</td>\n",
       "      <td>one</td>\n",
       "      <td>-0.575728</td>\n",
       "      <td>-0.727860</td>\n",
       "    </tr>\n",
       "  </tbody>\n",
       "</table>\n",
       "</div>"
      ],
      "text/plain": [
       "  key1 key2     data1     data2\n",
       "0    a  one -0.625614 -1.027170\n",
       "1    a  two -0.907969 -0.097489\n",
       "2    b  one -0.209190  1.014104\n",
       "3    b  two  0.120974  1.096963\n",
       "4    a  one -0.575728 -0.727860"
      ]
     },
     "execution_count": 1,
     "metadata": {},
     "output_type": "execute_result"
    }
   ],
   "source": [
    "import numpy as np\n",
    "import pandas as pd\n",
    "\n",
    "df = pd.DataFrame({'key1':['a', 'a', 'b', 'b', 'a'],\n",
    "                  'key2':['one', 'two', 'one', 'two', 'one'],\n",
    "                  'data1': np.random.randn(5),\n",
    "                  'data2':np.random.randn(5)})\n",
    "df"
   ]
  },
  {
   "cell_type": "code",
   "execution_count": 5,
   "id": "0d9762fa",
   "metadata": {},
   "outputs": [
    {
     "data": {
      "text/plain": [
       "0   -0.625614\n",
       "1   -0.907969\n",
       "2   -0.209190\n",
       "3    0.120974\n",
       "4   -0.575728\n",
       "Name: data1, dtype: float64"
      ]
     },
     "metadata": {},
     "output_type": "display_data"
    },
    {
     "data": {
      "text/plain": [
       "0    a\n",
       "1    a\n",
       "2    b\n",
       "3    b\n",
       "4    a\n",
       "Name: key1, dtype: object"
      ]
     },
     "metadata": {},
     "output_type": "display_data"
    },
    {
     "data": {
      "text/plain": [
       "key1\n",
       "a   -0.703104\n",
       "b   -0.044108\n",
       "Name: data1, dtype: float64"
      ]
     },
     "execution_count": 5,
     "metadata": {},
     "output_type": "execute_result"
    }
   ],
   "source": [
    "# Series Groupby\n",
    "display(df['data1'])\n",
    "display(df['key1'])\n",
    "df['data1'].groupby(df['key1']) #Series執行Groupby\n",
    "df['data1'].groupby(df['key1']).mean() #Series執行Groupby後計算平均"
   ]
  },
  {
   "cell_type": "code",
   "execution_count": null,
   "id": "bdb05b72",
   "metadata": {},
   "outputs": [
    {
     "data": {
      "text/html": [
       "<div>\n",
       "<style scoped>\n",
       "    .dataframe tbody tr th:only-of-type {\n",
       "        vertical-align: middle;\n",
       "    }\n",
       "\n",
       "    .dataframe tbody tr th {\n",
       "        vertical-align: top;\n",
       "    }\n",
       "\n",
       "    .dataframe thead th {\n",
       "        text-align: right;\n",
       "    }\n",
       "</style>\n",
       "<table border=\"1\" class=\"dataframe\">\n",
       "  <thead>\n",
       "    <tr style=\"text-align: right;\">\n",
       "      <th></th>\n",
       "      <th>mean</th>\n",
       "      <th>std</th>\n",
       "    </tr>\n",
       "    <tr>\n",
       "      <th>key1</th>\n",
       "      <th></th>\n",
       "      <th></th>\n",
       "    </tr>\n",
       "  </thead>\n",
       "  <tbody>\n",
       "    <tr>\n",
       "      <th>a</th>\n",
       "      <td>-0.703104</td>\n",
       "      <td>0.179163</td>\n",
       "    </tr>\n",
       "    <tr>\n",
       "      <th>b</th>\n",
       "      <td>-0.044108</td>\n",
       "      <td>0.233461</td>\n",
       "    </tr>\n",
       "  </tbody>\n",
       "</table>\n",
       "</div>"
      ],
      "text/plain": [
       "          mean       std\n",
       "key1                    \n",
       "a    -0.703104  0.179163\n",
       "b    -0.044108  0.233461"
      ]
     },
     "execution_count": 3,
     "metadata": {},
     "output_type": "execute_result"
    }
   ],
   "source": [
    "df['data1'].groupby(df['key1']).agg(['mean', 'std']) #Series執行Groupby後計算平均與標準差"
   ]
  },
  {
   "cell_type": "code",
   "execution_count": 10,
   "id": "fd31438b",
   "metadata": {},
   "outputs": [
    {
     "data": {
      "text/plain": [
       "key1  key2\n",
       "a     one    -0.600671\n",
       "      two    -0.907969\n",
       "b     one    -0.209190\n",
       "      two     0.120974\n",
       "Name: data1, dtype: float64"
      ]
     },
     "execution_count": 10,
     "metadata": {},
     "output_type": "execute_result"
    }
   ],
   "source": [
    "mean = df['data1'].groupby([df['key1'], df['key2']]).mean()\n",
    "mean"
   ]
  },
  {
   "cell_type": "code",
   "execution_count": 12,
   "id": "fc9aaf84",
   "metadata": {},
   "outputs": [
    {
     "data": {
      "text/plain": [
       "key1  key2\n",
       "a     one    -0.600671\n",
       "      two    -0.907969\n",
       "b     one    -0.209190\n",
       "      two     0.120974\n",
       "dtype: float64"
      ]
     },
     "execution_count": 12,
     "metadata": {},
     "output_type": "execute_result"
    }
   ],
   "source": [
    "mean.unstack().stack()"
   ]
  }
 ],
 "metadata": {
  "kernelspec": {
   "display_name": "a0804",
   "language": "python",
   "name": "python3"
  },
  "language_info": {
   "codemirror_mode": {
    "name": "ipython",
    "version": 3
   },
   "file_extension": ".py",
   "mimetype": "text/x-python",
   "name": "python",
   "nbconvert_exporter": "python",
   "pygments_lexer": "ipython3",
   "version": "3.12.11"
  }
 },
 "nbformat": 4,
 "nbformat_minor": 5
}
